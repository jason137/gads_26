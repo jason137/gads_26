{
 "cells": [
  {
   "cell_type": "markdown",
   "metadata": {},
   "source": [
    "# fizzbuzz\n",
    "\n",
    "## test 1\n",
    "This way is simple and correct, but contains a small trick: the order of your tests matters. This is not made explicit by the structure of the code:"
   ]
  },
  {
   "cell_type": "code",
   "execution_count": 54,
   "metadata": {
    "collapsed": false
   },
   "outputs": [
    {
     "name": "stdout",
     "output_type": "stream",
     "text": [
      "3 fizz\n",
      "5 buzz\n",
      "6 fizz\n",
      "9 fizz\n",
      "10 buzz\n",
      "12 fizz\n",
      "15 fizzbuzz\n",
      "18 fizz\n",
      "20 buzz\n",
      "21 fizz\n",
      "24 fizz\n",
      "25 buzz\n",
      "27 fizz\n",
      "30 fizzbuzz\n",
      "num_tests_1 = 14\n"
     ]
    }
   ],
   "source": [
    "num_tests_1 = 0\n",
    "\n",
    "for k in range(1, 31):\n",
    "\n",
    "    if k % 15 == 0:\n",
    "        num_tests_1 += 1\n",
    "        print(k, 'fizzbuzz')\n",
    "\n",
    "    elif k % 3 == 0:\n",
    "        num_tests_1 += 1\n",
    "        print(k, 'fizz')\n",
    "\n",
    "    elif k % 5 == 0:\n",
    "        num_tests_1 += 1\n",
    "        print(k, 'buzz')\n",
    "\n",
    "print('num_tests_1 =', num_tests_1)"
   ]
  },
  {
   "cell_type": "markdown",
   "metadata": {},
   "source": [
    "## test 2\n",
    "Note that changing the order of the tests produces incorrect output:"
   ]
  },
  {
   "cell_type": "code",
   "execution_count": 57,
   "metadata": {
    "collapsed": false
   },
   "outputs": [
    {
     "name": "stdout",
     "output_type": "stream",
     "text": [
      "3 fizz\n",
      "5 buzz\n",
      "6 fizz\n",
      "9 fizz\n",
      "10 buzz\n",
      "12 fizz\n",
      "15 fizz\n",
      "18 fizz\n",
      "20 buzz\n",
      "21 fizz\n",
      "24 fizz\n",
      "25 buzz\n",
      "27 fizz\n",
      "30 fizz\n",
      "num_tests_2 = 14\n"
     ]
    }
   ],
   "source": [
    "num_tests_2 = 0\n",
    "\n",
    "for k in range(1, 31):\n",
    "\n",
    "    if k % 3 == 0:\n",
    "        num_tests_2 += 1\n",
    "        print(k, 'fizz')\n",
    "\n",
    "    elif k % 15 == 0:\n",
    "        num_tests_2 += 1\n",
    "        print(k, 'fizzbuzz')\n",
    "\n",
    "    elif k % 5 == 0:\n",
    "        num_tests_2 += 1\n",
    "        print(k, 'buzz')\n",
    "\n",
    "print('num_tests_2 =', num_tests_2)"
   ]
  },
  {
   "cell_type": "markdown",
   "metadata": {},
   "source": [
    "## test 3\n",
    "This way costs you about 10% more in terms of computation (and therefore runtime), but the code's control flow is made explicit by its structure. The syntax is more **expressive**. The difference is a stylistic tradeoff (of second order importance), but one that can affect code maintainability.\n",
    "\n",
    "Imagine you were getting unexpected output from (a more complicated version of) one of these. Which do you think would be easier to debug? Why?"
   ]
  },
  {
   "cell_type": "code",
   "execution_count": 56,
   "metadata": {
    "collapsed": false
   },
   "outputs": [
    {
     "name": "stdout",
     "output_type": "stream",
     "text": [
      "3 fizz\n",
      "5 buzz\n",
      "6 fizz\n",
      "9 fizz\n",
      "10 buzz\n",
      "12 fizz\n",
      "15 fizzbuzz\n",
      "18 fizz\n",
      "20 buzz\n",
      "21 fizz\n",
      "24 fizz\n",
      "25 buzz\n",
      "27 fizz\n",
      "30 fizzbuzz\n",
      "num_tests_3 = 16\n"
     ]
    }
   ],
   "source": [
    "num_tests_3 = 0\n",
    "\n",
    "for k in range(1, 31):\n",
    "\n",
    "    if k % 3 == 0:\n",
    "        num_tests_3 += 1\n",
    "\n",
    "        if k % 5 == 0:\n",
    "            num_tests_3 += 1\n",
    "            print(k, 'fizzbuzz')\n",
    "\n",
    "        else:\n",
    "            print(k, 'fizz')\n",
    "   \n",
    "    elif k % 5 == 0:\n",
    "        num_tests_3 += 1\n",
    "        print(k, 'buzz')\n",
    "\n",
    "print('num_tests_3 =', num_tests_3)"
   ]
  }
 ],
 "metadata": {
  "kernelspec": {
   "display_name": "Python 3",
   "language": "python",
   "name": "python3"
  },
  "language_info": {
   "codemirror_mode": {
    "name": "ipython",
    "version": 3
   },
   "file_extension": ".py",
   "mimetype": "text/x-python",
   "name": "python",
   "nbconvert_exporter": "python",
   "pygments_lexer": "ipython3",
   "version": "3.4.3"
  }
 },
 "nbformat": 4,
 "nbformat_minor": 0
}
