{
 "cells": [
  {
   "cell_type": "markdown",
   "metadata": {},
   "source": [
    "# introduction to pandas"
   ]
  },
  {
   "cell_type": "markdown",
   "metadata": {},
   "source": [
    "This file is a [Jupyter](https://jupyter.org/) notebook. The output that appears here was created by a Python kernel when this page was created. You can type the commands that appear in a notebook file like this one into your Python shell (or run them in a Python script) and expect to see the same results, assuming you have the dependencies installed.\n",
    "\n",
    "We'll be taking a look at a **library** called [pandas](http://pandas.pydata.org/) which gives us some important basic functionality for handling datasets in Python.\n",
    "\n",
    "In order to use code in a library, we need to **import** it. This makes the library code accessible to Python by bringing it into [scope](https://docs.python.org/3.5/tutorial/classes.html#python-scopes-and-namespaces). The conventional way to import pandas is like this:"
   ]
  },
  {
   "cell_type": "code",
   "execution_count": 33,
   "metadata": {
    "collapsed": false
   },
   "outputs": [],
   "source": [
    "import pandas as pd"
   ]
  },
  {
   "cell_type": "markdown",
   "metadata": {},
   "source": [
    "Once it's in scope we can access functions and objects that live in pandas by calling them with the `pd` prefix. This prefix specifies the pandas **namespace**, which is a map between pandas objects and the names we use to access them.\n",
    "\n",
    "For example, we can access the pandas DataFrame object like this:"
   ]
  },
  {
   "cell_type": "code",
   "execution_count": 40,
   "metadata": {
    "collapsed": false
   },
   "outputs": [
    {
     "name": "stdout",
     "output_type": "stream",
     "text": [
      "    animal  count\n",
      "0      cow      3\n",
      "1      pig      6\n",
      "2  chicken     12\n"
     ]
    }
   ],
   "source": [
    "test_df = pd.DataFrame({'animal': ['cow', 'pig', 'chicken'], 'count': [3, 6, 12]})\n",
    "print(test_df)"
   ]
  },
  {
   "cell_type": "markdown",
   "metadata": {},
   "source": [
    "The **DataFrame** is the fundamental object we'll use to manipulate datasets in pandas. A DataFrame can be constructed from a instance of `dict`. It stores values (of possibly different types) in rows and columns, like a relational table. It uses an **index** to keep track of its records; this is the left-most column of integers you see above, without a heading.\n",
    "\n",
    "Creating a DataFrame explicitly from a `dict` as above can be useful, but frequently we'll  use a function that allows us to easily create a DataFrame from an input file:"
   ]
  },
  {
   "cell_type": "code",
   "execution_count": 41,
   "metadata": {
    "collapsed": false
   },
   "outputs": [
    {
     "name": "stdout",
     "output_type": "stream",
     "text": [
      "        state               peak  elev_ft\n",
      "0     Alabama    Cheaha Mountain     2405\n",
      "1      Alaska             Denali    20320\n",
      "2     Arizona     Humphreys Peak    12633\n",
      "3    Arkansas  Magazine Mountain     2753\n",
      "4  California      Mount Whitney    14495\n"
     ]
    }
   ],
   "source": [
    "input_file = '~/gits/gads_26/datasets/state_hts.tsv'\n",
    "data = pd.read_csv(input_file, sep='\\t')\n",
    "print(data.head())"
   ]
  },
  {
   "cell_type": "markdown",
   "metadata": {},
   "source": [
    "The `read_csv` function is the workhorse for loading data into pandas. It takes a path to an input file as its first argument, and the second ([keyword](http://sys-exit.blogspot.com/2013/07/python-positional-arguments-and-keyword.html)) argument specifies that our data is tab-delimited. The default behavior of `read_csv` is to use the first row of the input file as a header row.\n",
    "\n",
    "The `head` function works like its Unix counterpart, printing the first few records of `data`. In this case the default number of rows is 5, but we can change this behavior by being explicit:"
   ]
  },
  {
   "cell_type": "code",
   "execution_count": 36,
   "metadata": {
    "collapsed": false
   },
   "outputs": [
    {
     "name": "stdout",
     "output_type": "stream",
     "text": [
      "         state                        peak  elev_ft\n",
      "0      Alabama             Cheaha Mountain     2405\n",
      "1       Alaska                      Denali    20320\n",
      "2      Arizona              Humphreys Peak    12633\n",
      "3     Arkansas           Magazine Mountain     2753\n",
      "4   California               Mount Whitney    14495\n",
      "5     Colorado                Mount Elbert    14433\n",
      "6  Connecticut  Mount Frissell-South Slope     2372\n",
      "7     Delaware             Ebright Azimuth      442\n",
      "8      Florida                Britton Hill      345\n",
      "9      Georgia              Brasstown Bald     4784\n"
     ]
    }
   ],
   "source": [
    "print data.head(10)"
   ]
  },
  {
   "cell_type": "markdown",
   "metadata": {},
   "source": [
    "Let's look at some of panda's basic exploratory tools. We've already seen the `head` function. Here's another useful one:"
   ]
  },
  {
   "cell_type": "code",
   "execution_count": 37,
   "metadata": {
    "collapsed": false
   },
   "outputs": [
    {
     "name": "stdout",
     "output_type": "stream",
     "text": [
      "(50, 3)\n"
     ]
    }
   ],
   "source": [
    "print data.shape"
   ]
  },
  {
   "cell_type": "markdown",
   "metadata": {},
   "source": [
    "The `shape` attribute is a tuple that contains the dimensions (rows, columns) of the DataFrame. Note that the syntax is `shape` and not `shape()`, since it's an attribute of the DataFrame object and not a method.\n",
    "\n",
    "Another important tool is the `describe` method, which gives a summary of the numeric features in our dataset:"
   ]
  },
  {
   "cell_type": "code",
   "execution_count": 38,
   "metadata": {
    "collapsed": false
   },
   "outputs": [
    {
     "name": "stdout",
     "output_type": "stream",
     "text": [
      "            elev_ft\n",
      "count     50.000000\n",
      "mean    6161.780000\n",
      "std     5086.229574\n",
      "min      345.000000\n",
      "25%     2058.750000\n",
      "50%     4588.500000\n",
      "75%    10616.500000\n",
      "max    20320.000000\n"
     ]
    }
   ],
   "source": [
    "print data.describe()"
   ]
  },
  {
   "cell_type": "markdown",
   "metadata": {},
   "source": [
    "The output is limited to the `elev_ft` column, since this is our only numeric feature. In addition to the count, mean, and standard deviation of the data we also get five important percentiles (0% = min, 25% = first quartile, 50% = median, 75% = third quartile, 100% = max).\n",
    "\n",
    "These percentiles comprise a **five-number summary** of the distribution of `elev_ft`. The five-number summary is a useful first approximation to the shape of the distribution of the data. It gives us a rough picture of central tendency, central variation, skew, and tail behavior. "
   ]
  },
  {
   "cell_type": "code",
   "execution_count": null,
   "metadata": {
    "collapsed": true
   },
   "outputs": [],
   "source": []
  }
 ],
 "metadata": {
  "kernelspec": {
   "display_name": "Python 2",
   "language": "python",
   "name": "python2"
  },
  "language_info": {
   "codemirror_mode": {
    "name": "ipython",
    "version": 2
   },
   "file_extension": ".py",
   "mimetype": "text/x-python",
   "name": "python",
   "nbconvert_exporter": "python",
   "pygments_lexer": "ipython2",
   "version": "2.7.10"
  }
 },
 "nbformat": 4,
 "nbformat_minor": 0
}
