{
 "cells": [
  {
   "cell_type": "markdown",
   "metadata": {},
   "source": [
    "# introduction to pandas\n",
    "\n",
    "This file is a [Jupyter](https://jupyter.org/) notebook. The code that appears here is actually being run by a Python (2) kernel when you load this page. You can type the same commands into your Python shell (or run them in a Python script) and see the same results.\n",
    "\n",
    "We'll be taking a look at a library called [pandas](http://pandas.pydata.org/) which gives us some important basic functionality for handling datasets in Python.\n",
    "\n",
    "In order to use code in a library, we need to import it. This makes the library code accessible to Python by bringing it into [scope](https://docs.python.org/3.5/tutorial/classes.html#python-scopes-and-namespaces). The conventional way to import pandas is like this:"
   ]
  },
  {
   "cell_type": "code",
   "execution_count": 15,
   "metadata": {
    "collapsed": false
   },
   "outputs": [],
   "source": [
    "import pandas as pd"
   ]
  },
  {
   "cell_type": "markdown",
   "metadata": {},
   "source": [
    "Now that pandas is in scope, we can access functions and objects that live in pandas by calling them with the `pd` prefix. This prefix specifies the pandas **namespace**, which is a map between pandas objects and the names we use to access them.\n",
    "\n",
    "For example, we can access the pandas DataFrame object like this:"
   ]
  },
  {
   "cell_type": "code",
   "execution_count": 17,
   "metadata": {
    "collapsed": false
   },
   "outputs": [
    {
     "name": "stdout",
     "output_type": "stream",
     "text": [
      "    animal  count\n",
      "0      cow      3\n",
      "1      pig      6\n",
      "2  chicken     12\n"
     ]
    }
   ],
   "source": [
    "print pd.DataFrame({'animal': ['cow', 'pig', 'chicken'], 'count': [3, 6, 12]})"
   ]
  },
  {
   "cell_type": "markdown",
   "metadata": {},
   "source": [
    "The **DataFrame** is the fundamental object we'll use to manipulate datasets in pandas. As you can see, a DataFrame can be constructed from a instance of `dict`. The DataFrame stores values (of possibly different types) in rows and columns, like a relational table. It uses an **index** to keep track of its records; this is the left-most column of integers you see above, without a heading."
   ]
  },
  {
   "cell_type": "code",
   "execution_count": null,
   "metadata": {
    "collapsed": true
   },
   "outputs": [],
   "source": []
  }
 ],
 "metadata": {
  "kernelspec": {
   "display_name": "Python 2",
   "language": "python",
   "name": "python2"
  },
  "language_info": {
   "codemirror_mode": {
    "name": "ipython",
    "version": 2
   },
   "file_extension": ".py",
   "mimetype": "text/x-python",
   "name": "python",
   "nbconvert_exporter": "python",
   "pygments_lexer": "ipython2",
   "version": "2.7.10"
  }
 },
 "nbformat": 4,
 "nbformat_minor": 0
}
