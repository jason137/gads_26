{
 "cells": [
  {
   "cell_type": "markdown",
   "metadata": {},
   "source": [
    "# solutions"
   ]
  },
  {
   "cell_type": "code",
   "execution_count": 1,
   "metadata": {
    "collapsed": true
   },
   "outputs": [],
   "source": [
    "import pandas as pd"
   ]
  },
  {
   "cell_type": "markdown",
   "metadata": {},
   "source": [
    "## problem 6\n",
    "Use the file `shakespeare_words.tsv` to display the total words Shakespeare wrote by genre."
   ]
  },
  {
   "cell_type": "code",
   "execution_count": 2,
   "metadata": {
    "collapsed": false
   },
   "outputs": [
    {
     "data": {
      "text/html": [
       "<div>\n",
       "<table border=\"1\" class=\"dataframe\">\n",
       "  <thead>\n",
       "    <tr style=\"text-align: right;\">\n",
       "      <th></th>\n",
       "      <th>Words</th>\n",
       "    </tr>\n",
       "    <tr>\n",
       "      <th>Genre</th>\n",
       "      <th></th>\n",
       "    </tr>\n",
       "  </thead>\n",
       "  <tbody>\n",
       "    <tr>\n",
       "      <th>Comedy</th>\n",
       "      <td>283011</td>\n",
       "    </tr>\n",
       "    <tr>\n",
       "      <th>History</th>\n",
       "      <td>263358</td>\n",
       "    </tr>\n",
       "    <tr>\n",
       "      <th>Tragedy</th>\n",
       "      <td>289628</td>\n",
       "    </tr>\n",
       "  </tbody>\n",
       "</table>\n",
       "</div>"
      ],
      "text/plain": [
       "          Words\n",
       "Genre          \n",
       "Comedy   283011\n",
       "History  263358\n",
       "Tragedy  289628"
      ]
     },
     "execution_count": 2,
     "metadata": {},
     "output_type": "execute_result"
    }
   ],
   "source": [
    "SHAKES_FILE = '~/gits/gads_26/datasets/shakespeare_words.tsv'\n",
    "df6 = pd.read_csv(SHAKES_FILE, sep='\\t')\n",
    "\n",
    "df6.groupby('Genre').sum()"
   ]
  },
  {
   "cell_type": "markdown",
   "metadata": {},
   "source": [
    "## problem 7\n",
    "Use the file `state_hts.tsv` to print the highest peak for only those states beginning with the letter 'A'."
   ]
  },
  {
   "cell_type": "code",
   "execution_count": 3,
   "metadata": {
    "collapsed": false
   },
   "outputs": [
    {
     "data": {
      "text/html": [
       "<div>\n",
       "<table border=\"1\" class=\"dataframe\">\n",
       "  <thead>\n",
       "    <tr style=\"text-align: right;\">\n",
       "      <th></th>\n",
       "      <th>state</th>\n",
       "      <th>peak</th>\n",
       "      <th>elev_ft</th>\n",
       "    </tr>\n",
       "  </thead>\n",
       "  <tbody>\n",
       "    <tr>\n",
       "      <th>0</th>\n",
       "      <td>Alabama</td>\n",
       "      <td>Cheaha Mountain</td>\n",
       "      <td>2405</td>\n",
       "    </tr>\n",
       "    <tr>\n",
       "      <th>1</th>\n",
       "      <td>Alaska</td>\n",
       "      <td>Denali</td>\n",
       "      <td>20320</td>\n",
       "    </tr>\n",
       "    <tr>\n",
       "      <th>2</th>\n",
       "      <td>Arizona</td>\n",
       "      <td>Humphreys Peak</td>\n",
       "      <td>12633</td>\n",
       "    </tr>\n",
       "    <tr>\n",
       "      <th>3</th>\n",
       "      <td>Arkansas</td>\n",
       "      <td>Magazine Mountain</td>\n",
       "      <td>2753</td>\n",
       "    </tr>\n",
       "  </tbody>\n",
       "</table>\n",
       "</div>"
      ],
      "text/plain": [
       "      state               peak  elev_ft\n",
       "0   Alabama    Cheaha Mountain     2405\n",
       "1    Alaska             Denali    20320\n",
       "2   Arizona     Humphreys Peak    12633\n",
       "3  Arkansas  Magazine Mountain     2753"
      ]
     },
     "execution_count": 3,
     "metadata": {},
     "output_type": "execute_result"
    }
   ],
   "source": [
    "STATES_FILE = '~/gits/gads_26/datasets/state_hts.tsv'\n",
    "df7 = pd.read_csv(STATES_FILE, sep='\\t')\n",
    "\n",
    "df7[df7.state.apply(lambda k: k[0] == 'A')]"
   ]
  },
  {
   "cell_type": "markdown",
   "metadata": {},
   "source": [
    "By the way, `lambda` functions can be useful but sometimes they're not the right tool for the job. If you plan to use a function more than once, or if using `lambda` makes your code harder to understand, then it's better to define the function independently.\n",
    "\n",
    "Here's a solution to problem 7 that takes things more slowly. Can you see why they're the same? Note that `k` and `my_string` are playing the same role."
   ]
  },
  {
   "cell_type": "code",
   "execution_count": 4,
   "metadata": {
    "collapsed": false
   },
   "outputs": [
    {
     "data": {
      "text/plain": [
       "0     True\n",
       "1     True\n",
       "2     True\n",
       "3     True\n",
       "4    False\n",
       "5    False\n",
       "6    False\n",
       "7    False\n",
       "8    False\n",
       "9    False\n",
       "Name: state, dtype: bool"
      ]
     },
     "execution_count": 4,
     "metadata": {},
     "output_type": "execute_result"
    }
   ],
   "source": [
    "def starts_with_A(my_string):\n",
    "    return my_string[0] == 'A'\n",
    "\n",
    "mask = df7.state.apply(starts_with_A)    # apply starts_with_A to each elt of df7.state\n",
    "mask[:10]                                # first 10 elts of boolean mask"
   ]
  },
  {
   "cell_type": "code",
   "execution_count": 5,
   "metadata": {
    "collapsed": false
   },
   "outputs": [
    {
     "data": {
      "text/html": [
       "<div>\n",
       "<table border=\"1\" class=\"dataframe\">\n",
       "  <thead>\n",
       "    <tr style=\"text-align: right;\">\n",
       "      <th></th>\n",
       "      <th>state</th>\n",
       "      <th>peak</th>\n",
       "      <th>elev_ft</th>\n",
       "    </tr>\n",
       "  </thead>\n",
       "  <tbody>\n",
       "    <tr>\n",
       "      <th>0</th>\n",
       "      <td>Alabama</td>\n",
       "      <td>Cheaha Mountain</td>\n",
       "      <td>2405</td>\n",
       "    </tr>\n",
       "    <tr>\n",
       "      <th>1</th>\n",
       "      <td>Alaska</td>\n",
       "      <td>Denali</td>\n",
       "      <td>20320</td>\n",
       "    </tr>\n",
       "    <tr>\n",
       "      <th>2</th>\n",
       "      <td>Arizona</td>\n",
       "      <td>Humphreys Peak</td>\n",
       "      <td>12633</td>\n",
       "    </tr>\n",
       "    <tr>\n",
       "      <th>3</th>\n",
       "      <td>Arkansas</td>\n",
       "      <td>Magazine Mountain</td>\n",
       "      <td>2753</td>\n",
       "    </tr>\n",
       "  </tbody>\n",
       "</table>\n",
       "</div>"
      ],
      "text/plain": [
       "      state               peak  elev_ft\n",
       "0   Alabama    Cheaha Mountain     2405\n",
       "1    Alaska             Denali    20320\n",
       "2   Arizona     Humphreys Peak    12633\n",
       "3  Arkansas  Magazine Mountain     2753"
      ]
     },
     "execution_count": 5,
     "metadata": {},
     "output_type": "execute_result"
    }
   ],
   "source": [
    "df7[mask]"
   ]
  },
  {
   "cell_type": "markdown",
   "metadata": {},
   "source": [
    "## problem 8\n",
    "Use the file `admissions.tsv` to look at a) total admissions rates by gender and b) departmental admissions rates by gender. What do you think is going on here?\n",
    "\n",
    "### part a"
   ]
  },
  {
   "cell_type": "code",
   "execution_count": 6,
   "metadata": {
    "collapsed": false
   },
   "outputs": [
    {
     "name": "stdout",
     "output_type": "stream",
     "text": [
      "m_total_rate = 0.460231660232, f_total_rate = 0.303542234332\n"
     ]
    }
   ],
   "source": [
    "ADM_FILE = '~/gits/gads_26/datasets/admissions.tsv'\n",
    "df8 = pd.read_csv(ADM_FILE, sep='\\t')\n",
    "\n",
    "m_total_rate = df8.m_admit.sum() / float(df8.m_appl.sum())   # need float for python2.x\n",
    "f_total_rate = df8.f_admit.sum() / float(df8.f_appl.sum())\n",
    "\n",
    "print 'm_total_rate = {}, f_total_rate = {}'.format(m_total_rate, f_total_rate)"
   ]
  },
  {
   "cell_type": "markdown",
   "metadata": {},
   "source": [
    "At first glance, it looks like men are admitted at a substantially higher rate than women. But...\n",
    "\n",
    "### part b"
   ]
  },
  {
   "cell_type": "code",
   "execution_count": 7,
   "metadata": {
    "collapsed": false,
    "scrolled": true
   },
   "outputs": [
    {
     "data": {
      "text/html": [
       "<div>\n",
       "<table border=\"1\" class=\"dataframe\">\n",
       "  <thead>\n",
       "    <tr style=\"text-align: right;\">\n",
       "      <th></th>\n",
       "      <th>dept</th>\n",
       "      <th>m_appl</th>\n",
       "      <th>m_admit</th>\n",
       "      <th>f_appl</th>\n",
       "      <th>f_admit</th>\n",
       "      <th>m_rate</th>\n",
       "      <th>f_rate</th>\n",
       "      <th>f_wins</th>\n",
       "    </tr>\n",
       "  </thead>\n",
       "  <tbody>\n",
       "    <tr>\n",
       "      <th>0</th>\n",
       "      <td>A</td>\n",
       "      <td>825</td>\n",
       "      <td>512</td>\n",
       "      <td>108</td>\n",
       "      <td>89</td>\n",
       "      <td>0.620606</td>\n",
       "      <td>0.824074</td>\n",
       "      <td>True</td>\n",
       "    </tr>\n",
       "    <tr>\n",
       "      <th>1</th>\n",
       "      <td>B</td>\n",
       "      <td>560</td>\n",
       "      <td>353</td>\n",
       "      <td>25</td>\n",
       "      <td>17</td>\n",
       "      <td>0.630357</td>\n",
       "      <td>0.680000</td>\n",
       "      <td>True</td>\n",
       "    </tr>\n",
       "    <tr>\n",
       "      <th>2</th>\n",
       "      <td>C</td>\n",
       "      <td>325</td>\n",
       "      <td>120</td>\n",
       "      <td>593</td>\n",
       "      <td>202</td>\n",
       "      <td>0.369231</td>\n",
       "      <td>0.340641</td>\n",
       "      <td>False</td>\n",
       "    </tr>\n",
       "    <tr>\n",
       "      <th>3</th>\n",
       "      <td>D</td>\n",
       "      <td>417</td>\n",
       "      <td>138</td>\n",
       "      <td>375</td>\n",
       "      <td>131</td>\n",
       "      <td>0.330935</td>\n",
       "      <td>0.349333</td>\n",
       "      <td>True</td>\n",
       "    </tr>\n",
       "    <tr>\n",
       "      <th>4</th>\n",
       "      <td>E</td>\n",
       "      <td>191</td>\n",
       "      <td>53</td>\n",
       "      <td>393</td>\n",
       "      <td>94</td>\n",
       "      <td>0.277487</td>\n",
       "      <td>0.239186</td>\n",
       "      <td>False</td>\n",
       "    </tr>\n",
       "    <tr>\n",
       "      <th>5</th>\n",
       "      <td>F</td>\n",
       "      <td>272</td>\n",
       "      <td>16</td>\n",
       "      <td>341</td>\n",
       "      <td>24</td>\n",
       "      <td>0.058824</td>\n",
       "      <td>0.070381</td>\n",
       "      <td>True</td>\n",
       "    </tr>\n",
       "  </tbody>\n",
       "</table>\n",
       "</div>"
      ],
      "text/plain": [
       "  dept  m_appl  m_admit  f_appl  f_admit    m_rate    f_rate f_wins\n",
       "0    A     825      512     108       89  0.620606  0.824074   True\n",
       "1    B     560      353      25       17  0.630357  0.680000   True\n",
       "2    C     325      120     593      202  0.369231  0.340641  False\n",
       "3    D     417      138     375      131  0.330935  0.349333   True\n",
       "4    E     191       53     393       94  0.277487  0.239186  False\n",
       "5    F     272       16     341       24  0.058824  0.070381   True"
      ]
     },
     "execution_count": 7,
     "metadata": {},
     "output_type": "execute_result"
    }
   ],
   "source": [
    "df8['m_rate'] = df8.m_admit / df8.m_appl\n",
    "df8['f_rate'] = df8.f_admit / df8.f_appl\n",
    "df8['f_wins'] = df8.f_rate > df8.m_rate\n",
    "\n",
    "df8"
   ]
  },
  {
   "cell_type": "markdown",
   "metadata": {},
   "source": [
    "But in fact, women are admitted at higher rates than men in 4 of 6 departments! This one is a thinker...see if you can figure out what's going on (hint: conditional probabilities).\n",
    "\n",
    "## problem 9\n",
    "see `presidents.py`"
   ]
  },
  {
   "cell_type": "code",
   "execution_count": null,
   "metadata": {
    "collapsed": true
   },
   "outputs": [],
   "source": []
  }
 ],
 "metadata": {
  "kernelspec": {
   "display_name": "Python 2",
   "language": "python",
   "name": "python2"
  },
  "language_info": {
   "codemirror_mode": {
    "name": "ipython",
    "version": 2
   },
   "file_extension": ".py",
   "mimetype": "text/x-python",
   "name": "python",
   "nbconvert_exporter": "python",
   "pygments_lexer": "ipython2",
   "version": "2.7.10"
  }
 },
 "nbformat": 4,
 "nbformat_minor": 0
}
