{
 "cells": [
  {
   "cell_type": "markdown",
   "metadata": {},
   "source": [
    "# intro to pandas\n",
    "\n",
    "This file is a [Jupyter](https://jupyter.org/) notebook. The output that appears here was created by a Python kernel when this page was created. You can type the commands that appear in a notebook file like this one into your Python shell (or run them in a Python script) and expect to see the same results, assuming you have the dependencies installed.\n",
    "\n",
    "We'll be taking a look at a **library** called [pandas](http://pandas.pydata.org/) which gives us some important basic functionality for handling datasets in Python.\n",
    "\n",
    "If you're not sure what commands are available to you, note that (like the Unix command line) iPython supports **tab-completion**.\n",
    "\n",
    "## 3. editing data\n",
    "\n",
    "Let's import pandas and load our DataFrame again."
   ]
  },
  {
   "cell_type": "code",
   "execution_count": 79,
   "metadata": {
    "collapsed": false
   },
   "outputs": [],
   "source": [
    "import pandas as pd\n",
    "HTS_FILE = '~/gits/gads_26/datasets/state_hts.tsv'\n",
    "data = pd.read_csv(HTS_FILE, sep='\\t')"
   ]
  },
  {
   "cell_type": "markdown",
   "metadata": {},
   "source": [
    "We can **create a new column** by simply assigning values to it. Recall that write operations to columns require element syntax, not attribute syntax."
   ]
  },
  {
   "cell_type": "code",
   "execution_count": 80,
   "metadata": {
    "collapsed": false
   },
   "outputs": [
    {
     "data": {
      "text/html": [
       "<div>\n",
       "<table border=\"1\" class=\"dataframe\">\n",
       "  <thead>\n",
       "    <tr style=\"text-align: right;\">\n",
       "      <th></th>\n",
       "      <th>state</th>\n",
       "      <th>peak</th>\n",
       "      <th>elev_ft</th>\n",
       "      <th>elev_m</th>\n",
       "    </tr>\n",
       "  </thead>\n",
       "  <tbody>\n",
       "    <tr>\n",
       "      <th>0</th>\n",
       "      <td>Alabama</td>\n",
       "      <td>Cheaha Mountain</td>\n",
       "      <td>2405</td>\n",
       "      <td>733.0440</td>\n",
       "    </tr>\n",
       "    <tr>\n",
       "      <th>1</th>\n",
       "      <td>Alaska</td>\n",
       "      <td>Denali</td>\n",
       "      <td>20320</td>\n",
       "      <td>6193.5360</td>\n",
       "    </tr>\n",
       "    <tr>\n",
       "      <th>2</th>\n",
       "      <td>Arizona</td>\n",
       "      <td>Humphreys Peak</td>\n",
       "      <td>12633</td>\n",
       "      <td>3850.5384</td>\n",
       "    </tr>\n",
       "    <tr>\n",
       "      <th>3</th>\n",
       "      <td>Arkansas</td>\n",
       "      <td>Magazine Mountain</td>\n",
       "      <td>2753</td>\n",
       "      <td>839.1144</td>\n",
       "    </tr>\n",
       "    <tr>\n",
       "      <th>4</th>\n",
       "      <td>California</td>\n",
       "      <td>Mount Whitney</td>\n",
       "      <td>14495</td>\n",
       "      <td>4418.0760</td>\n",
       "    </tr>\n",
       "  </tbody>\n",
       "</table>\n",
       "</div>"
      ],
      "text/plain": [
       "        state               peak  elev_ft     elev_m\n",
       "0     Alabama    Cheaha Mountain     2405   733.0440\n",
       "1      Alaska             Denali    20320  6193.5360\n",
       "2     Arizona     Humphreys Peak    12633  3850.5384\n",
       "3    Arkansas  Magazine Mountain     2753   839.1144\n",
       "4  California      Mount Whitney    14495  4418.0760"
      ]
     },
     "execution_count": 80,
     "metadata": {},
     "output_type": "execute_result"
    }
   ],
   "source": [
    "FEET_TO_METERS = 0.3048\n",
    "data['elev_m'] = FEET_TO_METERS * data.elev_ft\n",
    "data.head()"
   ]
  },
  {
   "cell_type": "markdown",
   "metadata": {},
   "source": [
    "Another method for **creating one column from another** uses the Series `apply` method. This gives us greater flexibility:"
   ]
  },
  {
   "cell_type": "code",
   "execution_count": 81,
   "metadata": {
    "collapsed": false
   },
   "outputs": [
    {
     "data": {
      "text/html": [
       "<div>\n",
       "<table border=\"1\" class=\"dataframe\">\n",
       "  <thead>\n",
       "    <tr style=\"text-align: right;\">\n",
       "      <th></th>\n",
       "      <th>state</th>\n",
       "      <th>peak</th>\n",
       "      <th>elev_ft</th>\n",
       "      <th>elev_m</th>\n",
       "    </tr>\n",
       "  </thead>\n",
       "  <tbody>\n",
       "    <tr>\n",
       "      <th>0</th>\n",
       "      <td>Alabama</td>\n",
       "      <td>Cheaha Mountain</td>\n",
       "      <td>2405</td>\n",
       "      <td>733</td>\n",
       "    </tr>\n",
       "    <tr>\n",
       "      <th>1</th>\n",
       "      <td>Alaska</td>\n",
       "      <td>Denali</td>\n",
       "      <td>20320</td>\n",
       "      <td>6193</td>\n",
       "    </tr>\n",
       "    <tr>\n",
       "      <th>2</th>\n",
       "      <td>Arizona</td>\n",
       "      <td>Humphreys Peak</td>\n",
       "      <td>12633</td>\n",
       "      <td>3850</td>\n",
       "    </tr>\n",
       "    <tr>\n",
       "      <th>3</th>\n",
       "      <td>Arkansas</td>\n",
       "      <td>Magazine Mountain</td>\n",
       "      <td>2753</td>\n",
       "      <td>839</td>\n",
       "    </tr>\n",
       "    <tr>\n",
       "      <th>4</th>\n",
       "      <td>California</td>\n",
       "      <td>Mount Whitney</td>\n",
       "      <td>14495</td>\n",
       "      <td>4418</td>\n",
       "    </tr>\n",
       "  </tbody>\n",
       "</table>\n",
       "</div>"
      ],
      "text/plain": [
       "        state               peak  elev_ft  elev_m\n",
       "0     Alabama    Cheaha Mountain     2405     733\n",
       "1      Alaska             Denali    20320    6193\n",
       "2     Arizona     Humphreys Peak    12633    3850\n",
       "3    Arkansas  Magazine Mountain     2753     839\n",
       "4  California      Mount Whitney    14495    4418"
      ]
     },
     "execution_count": 81,
     "metadata": {},
     "output_type": "execute_result"
    }
   ],
   "source": [
    "data['elev_m'] = data.elev_ft.apply(lambda k: int(FEET_TO_METERS * k))\n",
    "data.head()"
   ]
  },
  {
   "cell_type": "markdown",
   "metadata": {},
   "source": [
    "Note the use of the anonymous function (denoted by the keyword `lambda`) passed to the `apply` method.\n",
    "\n",
    "We can also **create a column as a function of other columns**:"
   ]
  },
  {
   "cell_type": "code",
   "execution_count": 82,
   "metadata": {
    "collapsed": false
   },
   "outputs": [
    {
     "data": {
      "text/html": [
       "<div>\n",
       "<table border=\"1\" class=\"dataframe\">\n",
       "  <thead>\n",
       "    <tr style=\"text-align: right;\">\n",
       "      <th></th>\n",
       "      <th>state</th>\n",
       "      <th>peak</th>\n",
       "      <th>elev_ft</th>\n",
       "      <th>elev_m</th>\n",
       "      <th>scale_factor</th>\n",
       "    </tr>\n",
       "  </thead>\n",
       "  <tbody>\n",
       "    <tr>\n",
       "      <th>0</th>\n",
       "      <td>Alabama</td>\n",
       "      <td>Cheaha Mountain</td>\n",
       "      <td>2405</td>\n",
       "      <td>733</td>\n",
       "      <td>0.304782</td>\n",
       "    </tr>\n",
       "    <tr>\n",
       "      <th>1</th>\n",
       "      <td>Alaska</td>\n",
       "      <td>Denali</td>\n",
       "      <td>20320</td>\n",
       "      <td>6193</td>\n",
       "      <td>0.304774</td>\n",
       "    </tr>\n",
       "    <tr>\n",
       "      <th>2</th>\n",
       "      <td>Arizona</td>\n",
       "      <td>Humphreys Peak</td>\n",
       "      <td>12633</td>\n",
       "      <td>3850</td>\n",
       "      <td>0.304757</td>\n",
       "    </tr>\n",
       "    <tr>\n",
       "      <th>3</th>\n",
       "      <td>Arkansas</td>\n",
       "      <td>Magazine Mountain</td>\n",
       "      <td>2753</td>\n",
       "      <td>839</td>\n",
       "      <td>0.304758</td>\n",
       "    </tr>\n",
       "    <tr>\n",
       "      <th>4</th>\n",
       "      <td>California</td>\n",
       "      <td>Mount Whitney</td>\n",
       "      <td>14495</td>\n",
       "      <td>4418</td>\n",
       "      <td>0.304795</td>\n",
       "    </tr>\n",
       "  </tbody>\n",
       "</table>\n",
       "</div>"
      ],
      "text/plain": [
       "        state               peak  elev_ft  elev_m  scale_factor\n",
       "0     Alabama    Cheaha Mountain     2405     733      0.304782\n",
       "1      Alaska             Denali    20320    6193      0.304774\n",
       "2     Arizona     Humphreys Peak    12633    3850      0.304757\n",
       "3    Arkansas  Magazine Mountain     2753     839      0.304758\n",
       "4  California      Mount Whitney    14495    4418      0.304795"
      ]
     },
     "execution_count": 82,
     "metadata": {},
     "output_type": "execute_result"
    }
   ],
   "source": [
    "data['scale_factor'] = data.elev_m / data.elev_ft\n",
    "data.head()"
   ]
  },
  {
   "cell_type": "markdown",
   "metadata": {},
   "source": [
    "## 4. manipulating data\n",
    "\n",
    "Now we're ready for a little more pandas power. Just about anything you can do in a relational database can be done in pandas too (and with less overhead).\n",
    "\n",
    "Let's look at the dataset in `fish.csv`. This dataset contains a number of measurements for a sample of 159 fish from 7 different species."
   ]
  },
  {
   "cell_type": "code",
   "execution_count": 83,
   "metadata": {
    "collapsed": false
   },
   "outputs": [
    {
     "data": {
      "text/html": [
       "<div>\n",
       "<table border=\"1\" class=\"dataframe\">\n",
       "  <thead>\n",
       "    <tr style=\"text-align: right;\">\n",
       "      <th></th>\n",
       "      <th>Obs</th>\n",
       "      <th>Weight</th>\n",
       "      <th>Length1</th>\n",
       "      <th>Length2</th>\n",
       "      <th>Length3</th>\n",
       "      <th>Height%</th>\n",
       "      <th>Width%</th>\n",
       "      <th>Sex</th>\n",
       "      <th>Species</th>\n",
       "    </tr>\n",
       "  </thead>\n",
       "  <tbody>\n",
       "    <tr>\n",
       "      <th>0</th>\n",
       "      <td>1</td>\n",
       "      <td>242</td>\n",
       "      <td>23.2</td>\n",
       "      <td>25.4</td>\n",
       "      <td>30.0</td>\n",
       "      <td>38.4</td>\n",
       "      <td>13.4</td>\n",
       "      <td>NaN</td>\n",
       "      <td>Abramis brama</td>\n",
       "    </tr>\n",
       "    <tr>\n",
       "      <th>1</th>\n",
       "      <td>2</td>\n",
       "      <td>290</td>\n",
       "      <td>24.0</td>\n",
       "      <td>26.3</td>\n",
       "      <td>31.2</td>\n",
       "      <td>40.0</td>\n",
       "      <td>13.8</td>\n",
       "      <td>NaN</td>\n",
       "      <td>Abramis brama</td>\n",
       "    </tr>\n",
       "    <tr>\n",
       "      <th>2</th>\n",
       "      <td>3</td>\n",
       "      <td>340</td>\n",
       "      <td>23.9</td>\n",
       "      <td>26.5</td>\n",
       "      <td>31.1</td>\n",
       "      <td>39.8</td>\n",
       "      <td>15.1</td>\n",
       "      <td>NaN</td>\n",
       "      <td>Abramis brama</td>\n",
       "    </tr>\n",
       "    <tr>\n",
       "      <th>3</th>\n",
       "      <td>4</td>\n",
       "      <td>363</td>\n",
       "      <td>26.3</td>\n",
       "      <td>29.0</td>\n",
       "      <td>33.5</td>\n",
       "      <td>38.0</td>\n",
       "      <td>13.3</td>\n",
       "      <td>NaN</td>\n",
       "      <td>Abramis brama</td>\n",
       "    </tr>\n",
       "    <tr>\n",
       "      <th>4</th>\n",
       "      <td>5</td>\n",
       "      <td>430</td>\n",
       "      <td>26.5</td>\n",
       "      <td>29.0</td>\n",
       "      <td>34.0</td>\n",
       "      <td>36.6</td>\n",
       "      <td>15.1</td>\n",
       "      <td>NaN</td>\n",
       "      <td>Abramis brama</td>\n",
       "    </tr>\n",
       "  </tbody>\n",
       "</table>\n",
       "</div>"
      ],
      "text/plain": [
       "   Obs  Weight  Length1  Length2  Length3  Height%  Width%  Sex        Species\n",
       "0    1     242     23.2     25.4     30.0     38.4    13.4  NaN  Abramis brama\n",
       "1    2     290     24.0     26.3     31.2     40.0    13.8  NaN  Abramis brama\n",
       "2    3     340     23.9     26.5     31.1     39.8    15.1  NaN  Abramis brama\n",
       "3    4     363     26.3     29.0     33.5     38.0    13.3  NaN  Abramis brama\n",
       "4    5     430     26.5     29.0     34.0     36.6    15.1  NaN  Abramis brama"
      ]
     },
     "execution_count": 83,
     "metadata": {},
     "output_type": "execute_result"
    }
   ],
   "source": [
    "FISH_FILE = '~/gits/gads_26/datasets/fish.csv'\n",
    "fish = pd.read_csv(FISH_FILE)\n",
    "fish.head()"
   ]
  },
  {
   "cell_type": "markdown",
   "metadata": {},
   "source": [
    "Suppose we're interested in finding the mean weight by species. This requires us to perform a **bucketed calculation**, where the buckets are species and the calculation is finding the mean (a better way to say this is that we're calculating **conditional means**, where means are calculated conditional on a given species).\n",
    "\n",
    "If we were using a relational database, you could imagine using SQL's `GROUP BY` syntax to get at the answer. We can do the same thing with pandas:"
   ]
  },
  {
   "cell_type": "code",
   "execution_count": 84,
   "metadata": {
    "collapsed": false
   },
   "outputs": [
    {
     "data": {
      "text/plain": [
       "Species\n",
       "Abramis bjrkna       154.818182\n",
       "Abramis brama        626.000000\n",
       "Esox lucius          718.705882\n",
       "Leuciscus rutilus    152.050000\n",
       "Leusiscus idus       531.000000\n",
       "Osmerus eperlanus     11.178571\n",
       "Perca fluviatilis    382.239286\n",
       "Name: Weight, dtype: float64"
      ]
     },
     "execution_count": 84,
     "metadata": {},
     "output_type": "execute_result"
    }
   ],
   "source": [
    "fish.groupby('Species').Weight.mean()"
   ]
  },
  {
   "cell_type": "markdown",
   "metadata": {},
   "source": [
    "This is just about as easy as it looks. The only subtlety has to do with the types that pandas sends the data through before it presents the result:"
   ]
  },
  {
   "cell_type": "code",
   "execution_count": 85,
   "metadata": {
    "collapsed": false
   },
   "outputs": [
    {
     "data": {
      "text/plain": [
       "<pandas.core.groupby.DataFrameGroupBy object at 0x1081b8810>"
      ]
     },
     "execution_count": 85,
     "metadata": {},
     "output_type": "execute_result"
    }
   ],
   "source": [
    "fish.groupby('Species')"
   ]
  },
  {
   "cell_type": "markdown",
   "metadata": {},
   "source": [
    "As you can see, the `groupby` method returns an object of type `DataFrameGroupBy`. This doesn't give us much until we apply an [aggregation function](http://pandas.pydata.org/pandas-docs/stable/groupby.html), in this case `mean`. It's good to know this to avoid getting stumped by it later, but we don't have to worry much about these details.\n",
    "\n",
    "Another important piece of relational algebra is performed by SQL's [`JOIN`](http://www.codeproject.com/Articles/33052/Visual-Representation-of-SQL-Joins) syntax. We can do these in pandas too.\n",
    "\n",
    "First let's load a couple of datasets to join. The `cp_temps_mini.tsv` file contains average annual temperatures recorded in Central Park for the years 1918-40, and `snowfall.tsv` contains total annual snowfall for two cities for the years 1918-37."
   ]
  },
  {
   "cell_type": "code",
   "execution_count": 90,
   "metadata": {
    "collapsed": false
   },
   "outputs": [
    {
     "data": {
      "text/html": [
       "<div>\n",
       "<table border=\"1\" class=\"dataframe\">\n",
       "  <thead>\n",
       "    <tr style=\"text-align: right;\">\n",
       "      <th></th>\n",
       "      <th>date</th>\n",
       "      <th>cp_avg_temp</th>\n",
       "    </tr>\n",
       "  </thead>\n",
       "  <tbody>\n",
       "    <tr>\n",
       "      <th>0</th>\n",
       "      <td>1918</td>\n",
       "      <td>53.2</td>\n",
       "    </tr>\n",
       "    <tr>\n",
       "      <th>1</th>\n",
       "      <td>1919</td>\n",
       "      <td>53.8</td>\n",
       "    </tr>\n",
       "    <tr>\n",
       "      <th>2</th>\n",
       "      <td>1920</td>\n",
       "      <td>52.3</td>\n",
       "    </tr>\n",
       "    <tr>\n",
       "      <th>3</th>\n",
       "      <td>1921</td>\n",
       "      <td>54.9</td>\n",
       "    </tr>\n",
       "    <tr>\n",
       "      <th>4</th>\n",
       "      <td>1922</td>\n",
       "      <td>53.5</td>\n",
       "    </tr>\n",
       "  </tbody>\n",
       "</table>\n",
       "</div>"
      ],
      "text/plain": [
       "   date  cp_avg_temp\n",
       "0  1918         53.2\n",
       "1  1919         53.8\n",
       "2  1920         52.3\n",
       "3  1921         54.9\n",
       "4  1922         53.5"
      ]
     },
     "execution_count": 90,
     "metadata": {},
     "output_type": "execute_result"
    }
   ],
   "source": [
    "TEMPS_FILE = '~/gits/gads_26/datasets/cp_temps_mini.tsv'\n",
    "SNOW_FILE = '~/gits/gads_26/datasets/snowfall.tsv'\n",
    "\n",
    "temps = pd.read_csv(TEMPS_FILE, sep='\\t')\n",
    "snow = pd.read_csv(SNOW_FILE, sep='\\t')\n",
    "\n",
    "temps.head()"
   ]
  },
  {
   "cell_type": "code",
   "execution_count": 91,
   "metadata": {
    "collapsed": false
   },
   "outputs": [
    {
     "data": {
      "text/html": [
       "<div>\n",
       "<table border=\"1\" class=\"dataframe\">\n",
       "  <thead>\n",
       "    <tr style=\"text-align: right;\">\n",
       "      <th></th>\n",
       "      <th>date</th>\n",
       "      <th>Buffalo, NY</th>\n",
       "      <th>Cairo, IL</th>\n",
       "    </tr>\n",
       "  </thead>\n",
       "  <tbody>\n",
       "    <tr>\n",
       "      <th>0</th>\n",
       "      <td>1918</td>\n",
       "      <td>25.0</td>\n",
       "      <td>1.8</td>\n",
       "    </tr>\n",
       "    <tr>\n",
       "      <th>1</th>\n",
       "      <td>1919</td>\n",
       "      <td>69.4</td>\n",
       "      <td>4.5</td>\n",
       "    </tr>\n",
       "    <tr>\n",
       "      <th>2</th>\n",
       "      <td>1920</td>\n",
       "      <td>53.5</td>\n",
       "      <td>13.9</td>\n",
       "    </tr>\n",
       "    <tr>\n",
       "      <th>3</th>\n",
       "      <td>1921</td>\n",
       "      <td>39.8</td>\n",
       "      <td>4.0</td>\n",
       "    </tr>\n",
       "    <tr>\n",
       "      <th>4</th>\n",
       "      <td>1922</td>\n",
       "      <td>63.6</td>\n",
       "      <td>1.2</td>\n",
       "    </tr>\n",
       "  </tbody>\n",
       "</table>\n",
       "</div>"
      ],
      "text/plain": [
       "   date  Buffalo, NY  Cairo, IL\n",
       "0  1918         25.0        1.8\n",
       "1  1919         69.4        4.5\n",
       "2  1920         53.5       13.9\n",
       "3  1921         39.8        4.0\n",
       "4  1922         63.6        1.2"
      ]
     },
     "execution_count": 91,
     "metadata": {},
     "output_type": "execute_result"
    }
   ],
   "source": [
    "snow.head()"
   ]
  },
  {
   "cell_type": "markdown",
   "metadata": {
    "collapsed": false
   },
   "source": [
    "DataFrames do have a method called `join`, but the `merge` method gives us a bit of syntactic sugar to make things smoother:"
   ]
  },
  {
   "cell_type": "code",
   "execution_count": 92,
   "metadata": {
    "collapsed": false
   },
   "outputs": [
    {
     "data": {
      "text/html": [
       "<div>\n",
       "<table border=\"1\" class=\"dataframe\">\n",
       "  <thead>\n",
       "    <tr style=\"text-align: right;\">\n",
       "      <th></th>\n",
       "      <th>date</th>\n",
       "      <th>cp_avg_temp</th>\n",
       "      <th>Buffalo, NY</th>\n",
       "      <th>Cairo, IL</th>\n",
       "    </tr>\n",
       "  </thead>\n",
       "  <tbody>\n",
       "    <tr>\n",
       "      <th>0</th>\n",
       "      <td>1918</td>\n",
       "      <td>53.2</td>\n",
       "      <td>25.0</td>\n",
       "      <td>1.8</td>\n",
       "    </tr>\n",
       "    <tr>\n",
       "      <th>1</th>\n",
       "      <td>1919</td>\n",
       "      <td>53.8</td>\n",
       "      <td>69.4</td>\n",
       "      <td>4.5</td>\n",
       "    </tr>\n",
       "    <tr>\n",
       "      <th>2</th>\n",
       "      <td>1920</td>\n",
       "      <td>52.3</td>\n",
       "      <td>53.5</td>\n",
       "      <td>13.9</td>\n",
       "    </tr>\n",
       "    <tr>\n",
       "      <th>3</th>\n",
       "      <td>1921</td>\n",
       "      <td>54.9</td>\n",
       "      <td>39.8</td>\n",
       "      <td>4.0</td>\n",
       "    </tr>\n",
       "    <tr>\n",
       "      <th>4</th>\n",
       "      <td>1922</td>\n",
       "      <td>53.5</td>\n",
       "      <td>63.6</td>\n",
       "      <td>1.2</td>\n",
       "    </tr>\n",
       "  </tbody>\n",
       "</table>\n",
       "</div>"
      ],
      "text/plain": [
       "   date  cp_avg_temp  Buffalo, NY  Cairo, IL\n",
       "0  1918         53.2         25.0        1.8\n",
       "1  1919         53.8         69.4        4.5\n",
       "2  1920         52.3         53.5       13.9\n",
       "3  1921         54.9         39.8        4.0\n",
       "4  1922         53.5         63.6        1.2"
      ]
     },
     "execution_count": 92,
     "metadata": {},
     "output_type": "execute_result"
    }
   ],
   "source": [
    "temps.merge(snow).head()"
   ]
  },
  {
   "cell_type": "code",
   "execution_count": null,
   "metadata": {
    "collapsed": true
   },
   "outputs": [],
   "source": [
    "Look at what happens at the tail end of the dataset:"
   ]
  },
  {
   "cell_type": "code",
   "execution_count": 93,
   "metadata": {
    "collapsed": false
   },
   "outputs": [
    {
     "data": {
      "text/html": [
       "<div>\n",
       "<table border=\"1\" class=\"dataframe\">\n",
       "  <thead>\n",
       "    <tr style=\"text-align: right;\">\n",
       "      <th></th>\n",
       "      <th>date</th>\n",
       "      <th>cp_avg_temp</th>\n",
       "      <th>Buffalo, NY</th>\n",
       "      <th>Cairo, IL</th>\n",
       "    </tr>\n",
       "  </thead>\n",
       "  <tbody>\n",
       "    <tr>\n",
       "      <th>15</th>\n",
       "      <td>1933</td>\n",
       "      <td>54.2</td>\n",
       "      <td>71.8</td>\n",
       "      <td>2.7</td>\n",
       "    </tr>\n",
       "    <tr>\n",
       "      <th>16</th>\n",
       "      <td>1934</td>\n",
       "      <td>53.0</td>\n",
       "      <td>49.1</td>\n",
       "      <td>1.6</td>\n",
       "    </tr>\n",
       "    <tr>\n",
       "      <th>17</th>\n",
       "      <td>1935</td>\n",
       "      <td>53.1</td>\n",
       "      <td>103.9</td>\n",
       "      <td>14.1</td>\n",
       "    </tr>\n",
       "    <tr>\n",
       "      <th>18</th>\n",
       "      <td>1936</td>\n",
       "      <td>53.4</td>\n",
       "      <td>51.6</td>\n",
       "      <td>5.4</td>\n",
       "    </tr>\n",
       "    <tr>\n",
       "      <th>19</th>\n",
       "      <td>1937</td>\n",
       "      <td>54.5</td>\n",
       "      <td>81.6</td>\n",
       "      <td>3.0</td>\n",
       "    </tr>\n",
       "  </tbody>\n",
       "</table>\n",
       "</div>"
      ],
      "text/plain": [
       "    date  cp_avg_temp  Buffalo, NY  Cairo, IL\n",
       "15  1933         54.2         71.8        2.7\n",
       "16  1934         53.0         49.1        1.6\n",
       "17  1935         53.1        103.9       14.1\n",
       "18  1936         53.4         51.6        5.4\n",
       "19  1937         54.5         81.6        3.0"
      ]
     },
     "execution_count": 93,
     "metadata": {},
     "output_type": "execute_result"
    }
   ],
   "source": [
    "temps.merge(snow).tail()"
   ]
  },
  {
   "cell_type": "markdown",
   "metadata": {},
   "source": [
    "Even though the temps dataset contains records all the way out to 1940, our joined dataset is truncated at 1937 because that's where the snowfall records end. This is an example of an **inner join**, which is the default behavior of the `merge` method.\n",
    "\n",
    "We can change the behavior by being explicit:"
   ]
  },
  {
   "cell_type": "code",
   "execution_count": 94,
   "metadata": {
    "collapsed": false
   },
   "outputs": [
    {
     "data": {
      "text/html": [
       "<div>\n",
       "<table border=\"1\" class=\"dataframe\">\n",
       "  <thead>\n",
       "    <tr style=\"text-align: right;\">\n",
       "      <th></th>\n",
       "      <th>date</th>\n",
       "      <th>cp_avg_temp</th>\n",
       "      <th>Buffalo, NY</th>\n",
       "      <th>Cairo, IL</th>\n",
       "    </tr>\n",
       "  </thead>\n",
       "  <tbody>\n",
       "    <tr>\n",
       "      <th>18</th>\n",
       "      <td>1936</td>\n",
       "      <td>53.4</td>\n",
       "      <td>51.6</td>\n",
       "      <td>5.4</td>\n",
       "    </tr>\n",
       "    <tr>\n",
       "      <th>19</th>\n",
       "      <td>1937</td>\n",
       "      <td>54.5</td>\n",
       "      <td>81.6</td>\n",
       "      <td>3.0</td>\n",
       "    </tr>\n",
       "    <tr>\n",
       "      <th>20</th>\n",
       "      <td>1938</td>\n",
       "      <td>55.2</td>\n",
       "      <td>NaN</td>\n",
       "      <td>NaN</td>\n",
       "    </tr>\n",
       "    <tr>\n",
       "      <th>21</th>\n",
       "      <td>1939</td>\n",
       "      <td>54.7</td>\n",
       "      <td>NaN</td>\n",
       "      <td>NaN</td>\n",
       "    </tr>\n",
       "    <tr>\n",
       "      <th>22</th>\n",
       "      <td>1940</td>\n",
       "      <td>51.9</td>\n",
       "      <td>NaN</td>\n",
       "      <td>NaN</td>\n",
       "    </tr>\n",
       "  </tbody>\n",
       "</table>\n",
       "</div>"
      ],
      "text/plain": [
       "    date  cp_avg_temp  Buffalo, NY  Cairo, IL\n",
       "18  1936         53.4         51.6        5.4\n",
       "19  1937         54.5         81.6        3.0\n",
       "20  1938         55.2          NaN        NaN\n",
       "21  1939         54.7          NaN        NaN\n",
       "22  1940         51.9          NaN        NaN"
      ]
     },
     "execution_count": 94,
     "metadata": {},
     "output_type": "execute_result"
    }
   ],
   "source": [
    "temps.merge(snow, how='outer').tail()"
   ]
  },
  {
   "cell_type": "markdown",
   "metadata": {},
   "source": [
    "Using an **outer join** produces nearly the same results as before, but this time the extra rows from `snowfall.tsv` that don't have matching join keys in `cp_temps_mini.tsv` are included, and blank values (`NaN`) are appended to the shorter dataset."
   ]
  }
 ],
 "metadata": {
  "kernelspec": {
   "display_name": "Python 2",
   "language": "python",
   "name": "python2"
  },
  "language_info": {
   "codemirror_mode": {
    "name": "ipython",
    "version": 2
   },
   "file_extension": ".py",
   "mimetype": "text/x-python",
   "name": "python",
   "nbconvert_exporter": "python",
   "pygments_lexer": "ipython2",
   "version": "2.7.10"
  }
 },
 "nbformat": 4,
 "nbformat_minor": 0
}
