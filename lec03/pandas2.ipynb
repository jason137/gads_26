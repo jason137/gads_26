{
 "cells": [
  {
   "cell_type": "markdown",
   "metadata": {},
   "source": [
    "# intro to pandas"
   ]
  },
  {
   "cell_type": "markdown",
   "metadata": {},
   "source": [
    "This file is a [Jupyter](https://jupyter.org/) notebook. The output that appears here was created by a Python kernel when this page was created. You can type the commands that appear in a notebook file like this one into your Python shell (or run them in a Python script) and expect to see the same results, assuming you have the dependencies installed.\n",
    "\n",
    "We'll be taking a look at a **library** called [pandas](http://pandas.pydata.org/) which gives us some important basic functionality for handling datasets in Python.\n",
    "\n",
    "If you're not sure what commands are available to you, note that (like the Unix command line) iPython supports tab-completion.\n",
    "\n",
    "Let's import pandas and load our DataFrame again."
   ]
  },
  {
   "cell_type": "code",
   "execution_count": 12,
   "metadata": {
    "collapsed": false
   },
   "outputs": [],
   "source": [
    "import pandas as pd\n",
    "input_file = '~/gits/gads_26/datasets/state_hts.tsv'\n",
    "data = pd.read_csv(input_file, sep='\\t')"
   ]
  },
  {
   "cell_type": "markdown",
   "metadata": {},
   "source": [
    "## 3. editing data"
   ]
  },
  {
   "cell_type": "markdown",
   "metadata": {},
   "source": [
    "We can create a new column by simply assigning values to it. Recall that write operations to columns require element syntax, not attribute syntax."
   ]
  },
  {
   "cell_type": "code",
   "execution_count": 13,
   "metadata": {
    "collapsed": false
   },
   "outputs": [
    {
     "data": {
      "text/html": [
       "<div>\n",
       "<table border=\"1\" class=\"dataframe\">\n",
       "  <thead>\n",
       "    <tr style=\"text-align: right;\">\n",
       "      <th></th>\n",
       "      <th>state</th>\n",
       "      <th>peak</th>\n",
       "      <th>elev_ft</th>\n",
       "      <th>elev_m</th>\n",
       "    </tr>\n",
       "  </thead>\n",
       "  <tbody>\n",
       "    <tr>\n",
       "      <th>0</th>\n",
       "      <td>Alabama</td>\n",
       "      <td>Cheaha Mountain</td>\n",
       "      <td>2405</td>\n",
       "      <td>733.0440</td>\n",
       "    </tr>\n",
       "    <tr>\n",
       "      <th>1</th>\n",
       "      <td>Alaska</td>\n",
       "      <td>Denali</td>\n",
       "      <td>20320</td>\n",
       "      <td>6193.5360</td>\n",
       "    </tr>\n",
       "    <tr>\n",
       "      <th>2</th>\n",
       "      <td>Arizona</td>\n",
       "      <td>Humphreys Peak</td>\n",
       "      <td>12633</td>\n",
       "      <td>3850.5384</td>\n",
       "    </tr>\n",
       "    <tr>\n",
       "      <th>3</th>\n",
       "      <td>Arkansas</td>\n",
       "      <td>Magazine Mountain</td>\n",
       "      <td>2753</td>\n",
       "      <td>839.1144</td>\n",
       "    </tr>\n",
       "    <tr>\n",
       "      <th>4</th>\n",
       "      <td>California</td>\n",
       "      <td>Mount Whitney</td>\n",
       "      <td>14495</td>\n",
       "      <td>4418.0760</td>\n",
       "    </tr>\n",
       "  </tbody>\n",
       "</table>\n",
       "</div>"
      ],
      "text/plain": [
       "        state               peak  elev_ft     elev_m\n",
       "0     Alabama    Cheaha Mountain     2405   733.0440\n",
       "1      Alaska             Denali    20320  6193.5360\n",
       "2     Arizona     Humphreys Peak    12633  3850.5384\n",
       "3    Arkansas  Magazine Mountain     2753   839.1144\n",
       "4  California      Mount Whitney    14495  4418.0760"
      ]
     },
     "execution_count": 13,
     "metadata": {},
     "output_type": "execute_result"
    }
   ],
   "source": [
    "feet_to_meters = 0.3048\n",
    "data['elev_m'] = feet_to_meters * data.elev_ft\n",
    "data.head()"
   ]
  },
  {
   "cell_type": "markdown",
   "metadata": {},
   "source": [
    "Another method for creating one column from another uses the Series `apply` method. This gives us greater flexibility:"
   ]
  },
  {
   "cell_type": "code",
   "execution_count": 14,
   "metadata": {
    "collapsed": false
   },
   "outputs": [
    {
     "data": {
      "text/html": [
       "<div>\n",
       "<table border=\"1\" class=\"dataframe\">\n",
       "  <thead>\n",
       "    <tr style=\"text-align: right;\">\n",
       "      <th></th>\n",
       "      <th>state</th>\n",
       "      <th>peak</th>\n",
       "      <th>elev_ft</th>\n",
       "      <th>elev_m</th>\n",
       "    </tr>\n",
       "  </thead>\n",
       "  <tbody>\n",
       "    <tr>\n",
       "      <th>0</th>\n",
       "      <td>Alabama</td>\n",
       "      <td>Cheaha Mountain</td>\n",
       "      <td>2405</td>\n",
       "      <td>733</td>\n",
       "    </tr>\n",
       "    <tr>\n",
       "      <th>1</th>\n",
       "      <td>Alaska</td>\n",
       "      <td>Denali</td>\n",
       "      <td>20320</td>\n",
       "      <td>6193</td>\n",
       "    </tr>\n",
       "    <tr>\n",
       "      <th>2</th>\n",
       "      <td>Arizona</td>\n",
       "      <td>Humphreys Peak</td>\n",
       "      <td>12633</td>\n",
       "      <td>3850</td>\n",
       "    </tr>\n",
       "    <tr>\n",
       "      <th>3</th>\n",
       "      <td>Arkansas</td>\n",
       "      <td>Magazine Mountain</td>\n",
       "      <td>2753</td>\n",
       "      <td>839</td>\n",
       "    </tr>\n",
       "    <tr>\n",
       "      <th>4</th>\n",
       "      <td>California</td>\n",
       "      <td>Mount Whitney</td>\n",
       "      <td>14495</td>\n",
       "      <td>4418</td>\n",
       "    </tr>\n",
       "  </tbody>\n",
       "</table>\n",
       "</div>"
      ],
      "text/plain": [
       "        state               peak  elev_ft  elev_m\n",
       "0     Alabama    Cheaha Mountain     2405     733\n",
       "1      Alaska             Denali    20320    6193\n",
       "2     Arizona     Humphreys Peak    12633    3850\n",
       "3    Arkansas  Magazine Mountain     2753     839\n",
       "4  California      Mount Whitney    14495    4418"
      ]
     },
     "execution_count": 14,
     "metadata": {},
     "output_type": "execute_result"
    }
   ],
   "source": [
    "data['elev_m'] = data.elev_ft.apply(lambda k: int(feet_to_meters * k))\n",
    "data.head()"
   ]
  },
  {
   "cell_type": "markdown",
   "metadata": {},
   "source": [
    "Note the use of the anonymous function (denoted by the keyword `lambda`) passed to the `apply` method.\n",
    "\n",
    "We can also create a column as a function of other columns:"
   ]
  },
  {
   "cell_type": "code",
   "execution_count": 15,
   "metadata": {
    "collapsed": false
   },
   "outputs": [
    {
     "data": {
      "text/html": [
       "<div>\n",
       "<table border=\"1\" class=\"dataframe\">\n",
       "  <thead>\n",
       "    <tr style=\"text-align: right;\">\n",
       "      <th></th>\n",
       "      <th>state</th>\n",
       "      <th>peak</th>\n",
       "      <th>elev_ft</th>\n",
       "      <th>elev_m</th>\n",
       "      <th>scale_factor</th>\n",
       "    </tr>\n",
       "  </thead>\n",
       "  <tbody>\n",
       "    <tr>\n",
       "      <th>0</th>\n",
       "      <td>Alabama</td>\n",
       "      <td>Cheaha Mountain</td>\n",
       "      <td>2405</td>\n",
       "      <td>733</td>\n",
       "      <td>0.304782</td>\n",
       "    </tr>\n",
       "    <tr>\n",
       "      <th>1</th>\n",
       "      <td>Alaska</td>\n",
       "      <td>Denali</td>\n",
       "      <td>20320</td>\n",
       "      <td>6193</td>\n",
       "      <td>0.304774</td>\n",
       "    </tr>\n",
       "    <tr>\n",
       "      <th>2</th>\n",
       "      <td>Arizona</td>\n",
       "      <td>Humphreys Peak</td>\n",
       "      <td>12633</td>\n",
       "      <td>3850</td>\n",
       "      <td>0.304757</td>\n",
       "    </tr>\n",
       "    <tr>\n",
       "      <th>3</th>\n",
       "      <td>Arkansas</td>\n",
       "      <td>Magazine Mountain</td>\n",
       "      <td>2753</td>\n",
       "      <td>839</td>\n",
       "      <td>0.304758</td>\n",
       "    </tr>\n",
       "    <tr>\n",
       "      <th>4</th>\n",
       "      <td>California</td>\n",
       "      <td>Mount Whitney</td>\n",
       "      <td>14495</td>\n",
       "      <td>4418</td>\n",
       "      <td>0.304795</td>\n",
       "    </tr>\n",
       "  </tbody>\n",
       "</table>\n",
       "</div>"
      ],
      "text/plain": [
       "        state               peak  elev_ft  elev_m  scale_factor\n",
       "0     Alabama    Cheaha Mountain     2405     733      0.304782\n",
       "1      Alaska             Denali    20320    6193      0.304774\n",
       "2     Arizona     Humphreys Peak    12633    3850      0.304757\n",
       "3    Arkansas  Magazine Mountain     2753     839      0.304758\n",
       "4  California      Mount Whitney    14495    4418      0.304795"
      ]
     },
     "execution_count": 15,
     "metadata": {},
     "output_type": "execute_result"
    }
   ],
   "source": [
    "data['scale_factor'] = data.elev_m / data.elev_ft\n",
    "data.head()"
   ]
  },
  {
   "cell_type": "markdown",
   "metadata": {},
   "source": [
    "## 4. manipulating data"
   ]
  },
  {
   "cell_type": "markdown",
   "metadata": {},
   "source": [
    "The `shape` attribute is a tuple that contains the dimensions (rows, columns) of the DataFrame. Note that the syntax is `shape` and not `shape()`, since it's an attribute of the DataFrame object and not a method.\n",
    "\n",
    "Another important tool is the `describe` method, which gives a summary of the numeric features in our dataset:"
   ]
  },
  {
   "cell_type": "code",
   "execution_count": 16,
   "metadata": {
    "collapsed": false
   },
   "outputs": [
    {
     "data": {
      "text/html": [
       "<div>\n",
       "<table border=\"1\" class=\"dataframe\">\n",
       "  <thead>\n",
       "    <tr style=\"text-align: right;\">\n",
       "      <th></th>\n",
       "      <th>elev_ft</th>\n",
       "      <th>elev_m</th>\n",
       "      <th>scale_factor</th>\n",
       "    </tr>\n",
       "  </thead>\n",
       "  <tbody>\n",
       "    <tr>\n",
       "      <th>count</th>\n",
       "      <td>50.000000</td>\n",
       "      <td>50.000000</td>\n",
       "      <td>50.000000</td>\n",
       "    </tr>\n",
       "    <tr>\n",
       "      <th>mean</th>\n",
       "      <td>6161.780000</td>\n",
       "      <td>1877.680000</td>\n",
       "      <td>0.304630</td>\n",
       "    </tr>\n",
       "    <tr>\n",
       "      <th>std</th>\n",
       "      <td>5086.229574</td>\n",
       "      <td>1550.309547</td>\n",
       "      <td>0.000271</td>\n",
       "    </tr>\n",
       "    <tr>\n",
       "      <th>min</th>\n",
       "      <td>345.000000</td>\n",
       "      <td>105.000000</td>\n",
       "      <td>0.303167</td>\n",
       "    </tr>\n",
       "    <tr>\n",
       "      <th>25%</th>\n",
       "      <td>2058.750000</td>\n",
       "      <td>626.750000</td>\n",
       "      <td>0.304642</td>\n",
       "    </tr>\n",
       "    <tr>\n",
       "      <th>50%</th>\n",
       "      <td>4588.500000</td>\n",
       "      <td>1398.000000</td>\n",
       "      <td>0.304717</td>\n",
       "    </tr>\n",
       "    <tr>\n",
       "      <th>75%</th>\n",
       "      <td>10616.500000</td>\n",
       "      <td>3235.250000</td>\n",
       "      <td>0.304767</td>\n",
       "    </tr>\n",
       "    <tr>\n",
       "      <th>max</th>\n",
       "      <td>20320.000000</td>\n",
       "      <td>6193.000000</td>\n",
       "      <td>0.304798</td>\n",
       "    </tr>\n",
       "  </tbody>\n",
       "</table>\n",
       "</div>"
      ],
      "text/plain": [
       "            elev_ft       elev_m  scale_factor\n",
       "count     50.000000    50.000000     50.000000\n",
       "mean    6161.780000  1877.680000      0.304630\n",
       "std     5086.229574  1550.309547      0.000271\n",
       "min      345.000000   105.000000      0.303167\n",
       "25%     2058.750000   626.750000      0.304642\n",
       "50%     4588.500000  1398.000000      0.304717\n",
       "75%    10616.500000  3235.250000      0.304767\n",
       "max    20320.000000  6193.000000      0.304798"
      ]
     },
     "execution_count": 16,
     "metadata": {},
     "output_type": "execute_result"
    }
   ],
   "source": [
    "data.describe()"
   ]
  },
  {
   "cell_type": "markdown",
   "metadata": {},
   "source": [
    "The output is limited to the `elev_ft` column, since this is our only numeric feature. In addition to the count, mean, and standard deviation of the data we also get five important percentiles (0% = min, 25% = first quartile, 50% = median, 75% = third quartile, 100% = max).\n",
    "\n",
    "These percentiles comprise a **five-number summary** of the distribution of `elev_ft`. The five-number summary is a useful first approximation to the shape of the distribution of the data. It gives us a rough picture of central tendency, central variation, skew, and tail behavior.\n",
    "\n",
    "This five-number summary suggests that the distribution of `elev_ft` is skewed and fat-tailed."
   ]
  },
  {
   "cell_type": "markdown",
   "metadata": {
    "collapsed": true
   },
   "source": [
    "## 2. selecting data"
   ]
  },
  {
   "cell_type": "markdown",
   "metadata": {},
   "source": [
    "Sometimes we'll want to use only a subset of our data at once. There are [several ways](http://pandas.pydata.org/pandas-docs/stable/indexing.html) to perform these kinds of selection operations on a DataFrame.\n",
    "\n",
    "We can access a single column using the same syntax we use to access elements in a `dict`: "
   ]
  },
  {
   "cell_type": "code",
   "execution_count": 17,
   "metadata": {
    "collapsed": false
   },
   "outputs": [
    {
     "data": {
      "text/plain": [
       "0       Alabama\n",
       "1        Alaska\n",
       "2       Arizona\n",
       "3      Arkansas\n",
       "4    California\n",
       "Name: state, dtype: object"
      ]
     },
     "execution_count": 17,
     "metadata": {},
     "output_type": "execute_result"
    }
   ],
   "source": [
    "data['state'].head()"
   ]
  },
  {
   "cell_type": "markdown",
   "metadata": {},
   "source": [
    "We can also read columns using attribute notation (note this doesn't work when trying to write to a column):"
   ]
  },
  {
   "cell_type": "code",
   "execution_count": 18,
   "metadata": {
    "collapsed": false
   },
   "outputs": [
    {
     "data": {
      "text/plain": [
       "0       Alabama\n",
       "1        Alaska\n",
       "2       Arizona\n",
       "3      Arkansas\n",
       "4    California\n",
       "Name: state, dtype: object"
      ]
     },
     "execution_count": 18,
     "metadata": {},
     "output_type": "execute_result"
    }
   ],
   "source": [
    "data.state.head()"
   ]
  },
  {
   "cell_type": "markdown",
   "metadata": {},
   "source": [
    "Let's take a look at our column's data type:"
   ]
  },
  {
   "cell_type": "code",
   "execution_count": 19,
   "metadata": {
    "collapsed": false
   },
   "outputs": [
    {
     "data": {
      "text/plain": [
       "pandas.core.series.Series"
      ]
     },
     "execution_count": 19,
     "metadata": {},
     "output_type": "execute_result"
    }
   ],
   "source": [
    "type(data.state)"
   ]
  },
  {
   "cell_type": "markdown",
   "metadata": {},
   "source": [
    "The column is stored as a Series, another fundamental data storage object in pandas. For our purposes, we will mostly see Series objects as constituent parts of a DataFrame.\n",
    "\n",
    "Series objects have methods too, for example we can find the average height of our 50 highest peaks:"
   ]
  },
  {
   "cell_type": "code",
   "execution_count": 20,
   "metadata": {
    "collapsed": false
   },
   "outputs": [
    {
     "data": {
      "text/plain": [
       "6161.7799999999997"
      ]
     },
     "execution_count": 20,
     "metadata": {},
     "output_type": "execute_result"
    }
   ],
   "source": [
    "data.elev_ft.mean()"
   ]
  },
  {
   "cell_type": "markdown",
   "metadata": {},
   "source": [
    "This agrees with the output from `describe`. "
   ]
  },
  {
   "cell_type": "markdown",
   "metadata": {},
   "source": [
    "Another useful way to select data is with a **boolean mask**. This is just a fancy term for an array of boolean (T/F) values that indicates which values to return:"
   ]
  },
  {
   "cell_type": "code",
   "execution_count": 21,
   "metadata": {
    "collapsed": false
   },
   "outputs": [
    {
     "data": {
      "text/html": [
       "<div>\n",
       "<table border=\"1\" class=\"dataframe\">\n",
       "  <thead>\n",
       "    <tr style=\"text-align: right;\">\n",
       "      <th></th>\n",
       "      <th>state</th>\n",
       "      <th>peak</th>\n",
       "      <th>elev_ft</th>\n",
       "      <th>elev_m</th>\n",
       "      <th>scale_factor</th>\n",
       "    </tr>\n",
       "  </thead>\n",
       "  <tbody>\n",
       "    <tr>\n",
       "      <th>4</th>\n",
       "      <td>California</td>\n",
       "      <td>Mount Whitney</td>\n",
       "      <td>14495</td>\n",
       "      <td>4418</td>\n",
       "      <td>0.304795</td>\n",
       "    </tr>\n",
       "  </tbody>\n",
       "</table>\n",
       "</div>"
      ],
      "text/plain": [
       "        state           peak  elev_ft  elev_m  scale_factor\n",
       "4  California  Mount Whitney    14495    4418      0.304795"
      ]
     },
     "execution_count": 21,
     "metadata": {},
     "output_type": "execute_result"
    }
   ],
   "source": [
    "data[data.state == 'California']"
   ]
  },
  {
   "cell_type": "markdown",
   "metadata": {},
   "source": [
    "Under the hood, the boolean condition we use here is an array of 50 T/F values, where the only T occurs at index 4."
   ]
  },
  {
   "cell_type": "markdown",
   "metadata": {},
   "source": [
    "We can access specific cells in the DataFrame using the `iloc` syntax. The `iloc` syntax is flexible and can take many different types of inputs (ints, arrays of ints, slice objects, [among others](http://pandas.pydata.org/pandas-docs/stable/indexing.html#selection-by-position)).\n",
    "\n",
    "Keep in mind when using `iloc` that the first argument specifies rows, the second argument specifies columns, and the arguments are separated by a comma. For example, the following command returns values in column `0` for rows `10-14` (like elsewere in Python, [slice objects](https://docs.python.org/3.5/tutorial/introduction.html) are lower index inclusive & upper index exclusive):"
   ]
  },
  {
   "cell_type": "code",
   "execution_count": 22,
   "metadata": {
    "collapsed": false
   },
   "outputs": [
    {
     "data": {
      "text/plain": [
       "10      Hawaii\n",
       "11       Idaho\n",
       "12    Illinois\n",
       "13     Indiana\n",
       "14        Iowa\n",
       "Name: state, dtype: object"
      ]
     },
     "execution_count": 22,
     "metadata": {},
     "output_type": "execute_result"
    }
   ],
   "source": [
    "data.iloc[10:15, 0]"
   ]
  },
  {
   "cell_type": "markdown",
   "metadata": {},
   "source": [
    "Note the use of `:` on its own in the second argument above. This is a wildcard that returns all the columns. You could also omit the columns argument and get the same result:"
   ]
  },
  {
   "cell_type": "code",
   "execution_count": 23,
   "metadata": {
    "collapsed": false
   },
   "outputs": [
    {
     "data": {
      "text/html": [
       "<div>\n",
       "<table border=\"1\" class=\"dataframe\">\n",
       "  <thead>\n",
       "    <tr style=\"text-align: right;\">\n",
       "      <th></th>\n",
       "      <th>state</th>\n",
       "      <th>peak</th>\n",
       "      <th>elev_ft</th>\n",
       "      <th>elev_m</th>\n",
       "      <th>scale_factor</th>\n",
       "    </tr>\n",
       "  </thead>\n",
       "  <tbody>\n",
       "    <tr>\n",
       "      <th>10</th>\n",
       "      <td>Hawaii</td>\n",
       "      <td>Mauna Kea</td>\n",
       "      <td>13796</td>\n",
       "      <td>4205</td>\n",
       "      <td>0.304798</td>\n",
       "    </tr>\n",
       "    <tr>\n",
       "      <th>11</th>\n",
       "      <td>Idaho</td>\n",
       "      <td>Borah Peak</td>\n",
       "      <td>12662</td>\n",
       "      <td>3859</td>\n",
       "      <td>0.304770</td>\n",
       "    </tr>\n",
       "    <tr>\n",
       "      <th>12</th>\n",
       "      <td>Illinois</td>\n",
       "      <td>Charles Mound</td>\n",
       "      <td>1235</td>\n",
       "      <td>376</td>\n",
       "      <td>0.304453</td>\n",
       "    </tr>\n",
       "    <tr>\n",
       "      <th>13</th>\n",
       "      <td>Indiana</td>\n",
       "      <td>Hoosier Hill</td>\n",
       "      <td>1257</td>\n",
       "      <td>383</td>\n",
       "      <td>0.304694</td>\n",
       "    </tr>\n",
       "    <tr>\n",
       "      <th>14</th>\n",
       "      <td>Iowa</td>\n",
       "      <td>Hawkeye Point</td>\n",
       "      <td>1670</td>\n",
       "      <td>509</td>\n",
       "      <td>0.304790</td>\n",
       "    </tr>\n",
       "  </tbody>\n",
       "</table>\n",
       "</div>"
      ],
      "text/plain": [
       "       state           peak  elev_ft  elev_m  scale_factor\n",
       "10    Hawaii      Mauna Kea    13796    4205      0.304798\n",
       "11     Idaho     Borah Peak    12662    3859      0.304770\n",
       "12  Illinois  Charles Mound     1235     376      0.304453\n",
       "13   Indiana   Hoosier Hill     1257     383      0.304694\n",
       "14      Iowa  Hawkeye Point     1670     509      0.304790"
      ]
     },
     "execution_count": 23,
     "metadata": {},
     "output_type": "execute_result"
    }
   ],
   "source": [
    "data.iloc[10:15]"
   ]
  },
  {
   "cell_type": "code",
   "execution_count": null,
   "metadata": {
    "collapsed": true
   },
   "outputs": [],
   "source": []
  }
 ],
 "metadata": {
  "kernelspec": {
   "display_name": "Python 2",
   "language": "python",
   "name": "python2"
  },
  "language_info": {
   "codemirror_mode": {
    "name": "ipython",
    "version": 2
   },
   "file_extension": ".py",
   "mimetype": "text/x-python",
   "name": "python",
   "nbconvert_exporter": "python",
   "pygments_lexer": "ipython2",
   "version": "2.7.10"
  }
 },
 "nbformat": 4,
 "nbformat_minor": 0
}
