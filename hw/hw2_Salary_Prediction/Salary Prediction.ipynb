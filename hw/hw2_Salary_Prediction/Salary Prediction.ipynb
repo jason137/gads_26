{
 "cells": [
  {
   "cell_type": "markdown",
   "metadata": {},
   "source": [
    "## Linear Regression Assignment\n",
    "\n",
    "Today in class, we will work on predicting salaries based on job advertisements.  The goal is to take a set of job postings and KNOWN job salaries (supervised learning) and predict the salary for future job postings.\n",
    "\n",
    "This was a Kaggle competition for a startup compaany Adzuna.  Kaggle is place to compete in applications of machine learning and data science.  The company, Adzuna, wanted the ability to provide a predicted salary for any job listing on their website.\n",
    "\n",
    "This is the next assignment in the course, but we will start it together in class.  You will build a model to predict salaries based on these job listings.\n",
    "\n",
    "The evaluation criteria will be Mean Absolute Error - we want to the lowest average error of salary prediction."
   ]
  },
  {
   "cell_type": "code",
   "execution_count": 206,
   "metadata": {
    "collapsed": true
   },
   "outputs": [],
   "source": [
    "import pandas as pd\n",
    "\n",
    "import seaborn as sb\n",
    "%matplotlib inline"
   ]
  },
  {
   "cell_type": "markdown",
   "metadata": {},
   "source": [
    "### The dataset\n",
    "\n",
    "The dataset we are using contains a job listing per row\n",
    "\n",
    "`SalaryNormalized` is the outcome or `y` variable - it is the known the salary.  \n",
    "\n",
    "All other fields can be used as input or `x` varaiable to predict it."
   ]
  },
  {
   "cell_type": "code",
   "execution_count": 207,
   "metadata": {
    "collapsed": false
   },
   "outputs": [
    {
     "data": {
      "text/html": [
       "<div>\n",
       "<table border=\"1\" class=\"dataframe\">\n",
       "  <thead>\n",
       "    <tr style=\"text-align: right;\">\n",
       "      <th></th>\n",
       "      <th>Id</th>\n",
       "      <th>Title</th>\n",
       "      <th>FullDescription</th>\n",
       "      <th>LocationRaw</th>\n",
       "      <th>LocationNormalized</th>\n",
       "      <th>ContractType</th>\n",
       "      <th>ContractTime</th>\n",
       "      <th>Company</th>\n",
       "      <th>Category</th>\n",
       "      <th>SalaryRaw</th>\n",
       "      <th>SalaryNormalized</th>\n",
       "      <th>SourceName</th>\n",
       "    </tr>\n",
       "  </thead>\n",
       "  <tbody>\n",
       "    <tr>\n",
       "      <th>0</th>\n",
       "      <td>12612628</td>\n",
       "      <td>Engineering Systems Analyst</td>\n",
       "      <td>Engineering Systems Analyst Dorking Surrey Sal...</td>\n",
       "      <td>Dorking, Surrey, Surrey</td>\n",
       "      <td>Dorking</td>\n",
       "      <td>NaN</td>\n",
       "      <td>permanent</td>\n",
       "      <td>Gregory Martin International</td>\n",
       "      <td>Engineering Jobs</td>\n",
       "      <td>20000 - 30000/annum 20-30K</td>\n",
       "      <td>25000</td>\n",
       "      <td>cv-library.co.uk</td>\n",
       "    </tr>\n",
       "    <tr>\n",
       "      <th>1</th>\n",
       "      <td>12612830</td>\n",
       "      <td>Stress Engineer Glasgow</td>\n",
       "      <td>Stress Engineer Glasgow Salary **** to **** We...</td>\n",
       "      <td>Glasgow, Scotland, Scotland</td>\n",
       "      <td>Glasgow</td>\n",
       "      <td>NaN</td>\n",
       "      <td>permanent</td>\n",
       "      <td>Gregory Martin International</td>\n",
       "      <td>Engineering Jobs</td>\n",
       "      <td>25000 - 35000/annum 25-35K</td>\n",
       "      <td>30000</td>\n",
       "      <td>cv-library.co.uk</td>\n",
       "    </tr>\n",
       "    <tr>\n",
       "      <th>2</th>\n",
       "      <td>12612844</td>\n",
       "      <td>Modelling and simulation analyst</td>\n",
       "      <td>Mathematical Modeller / Simulation Analyst / O...</td>\n",
       "      <td>Hampshire, South East, South East</td>\n",
       "      <td>Hampshire</td>\n",
       "      <td>NaN</td>\n",
       "      <td>permanent</td>\n",
       "      <td>Gregory Martin International</td>\n",
       "      <td>Engineering Jobs</td>\n",
       "      <td>20000 - 40000/annum 20-40K</td>\n",
       "      <td>30000</td>\n",
       "      <td>cv-library.co.uk</td>\n",
       "    </tr>\n",
       "    <tr>\n",
       "      <th>3</th>\n",
       "      <td>12613049</td>\n",
       "      <td>Engineering Systems Analyst / Mathematical Mod...</td>\n",
       "      <td>Engineering Systems Analyst / Mathematical Mod...</td>\n",
       "      <td>Surrey, South East, South East</td>\n",
       "      <td>Surrey</td>\n",
       "      <td>NaN</td>\n",
       "      <td>permanent</td>\n",
       "      <td>Gregory Martin International</td>\n",
       "      <td>Engineering Jobs</td>\n",
       "      <td>25000 - 30000/annum 25K-30K negotiable</td>\n",
       "      <td>27500</td>\n",
       "      <td>cv-library.co.uk</td>\n",
       "    </tr>\n",
       "    <tr>\n",
       "      <th>4</th>\n",
       "      <td>12613647</td>\n",
       "      <td>Pioneer, Miser Engineering Systems Analyst</td>\n",
       "      <td>Pioneer, Miser  Engineering Systems Analyst Do...</td>\n",
       "      <td>Surrey, South East, South East</td>\n",
       "      <td>Surrey</td>\n",
       "      <td>NaN</td>\n",
       "      <td>permanent</td>\n",
       "      <td>Gregory Martin International</td>\n",
       "      <td>Engineering Jobs</td>\n",
       "      <td>20000 - 30000/annum 20-30K</td>\n",
       "      <td>25000</td>\n",
       "      <td>cv-library.co.uk</td>\n",
       "    </tr>\n",
       "  </tbody>\n",
       "</table>\n",
       "</div>"
      ],
      "text/plain": [
       "         Id                                              Title  \\\n",
       "0  12612628                        Engineering Systems Analyst   \n",
       "1  12612830                            Stress Engineer Glasgow   \n",
       "2  12612844                   Modelling and simulation analyst   \n",
       "3  12613049  Engineering Systems Analyst / Mathematical Mod...   \n",
       "4  12613647         Pioneer, Miser Engineering Systems Analyst   \n",
       "\n",
       "                                     FullDescription  \\\n",
       "0  Engineering Systems Analyst Dorking Surrey Sal...   \n",
       "1  Stress Engineer Glasgow Salary **** to **** We...   \n",
       "2  Mathematical Modeller / Simulation Analyst / O...   \n",
       "3  Engineering Systems Analyst / Mathematical Mod...   \n",
       "4  Pioneer, Miser  Engineering Systems Analyst Do...   \n",
       "\n",
       "                         LocationRaw LocationNormalized ContractType  \\\n",
       "0            Dorking, Surrey, Surrey            Dorking          NaN   \n",
       "1        Glasgow, Scotland, Scotland            Glasgow          NaN   \n",
       "2  Hampshire, South East, South East          Hampshire          NaN   \n",
       "3     Surrey, South East, South East             Surrey          NaN   \n",
       "4     Surrey, South East, South East             Surrey          NaN   \n",
       "\n",
       "  ContractTime                       Company          Category  \\\n",
       "0    permanent  Gregory Martin International  Engineering Jobs   \n",
       "1    permanent  Gregory Martin International  Engineering Jobs   \n",
       "2    permanent  Gregory Martin International  Engineering Jobs   \n",
       "3    permanent  Gregory Martin International  Engineering Jobs   \n",
       "4    permanent  Gregory Martin International  Engineering Jobs   \n",
       "\n",
       "                                SalaryRaw  SalaryNormalized        SourceName  \n",
       "0              20000 - 30000/annum 20-30K             25000  cv-library.co.uk  \n",
       "1              25000 - 35000/annum 25-35K             30000  cv-library.co.uk  \n",
       "2              20000 - 40000/annum 20-40K             30000  cv-library.co.uk  \n",
       "3  25000 - 30000/annum 25K-30K negotiable             27500  cv-library.co.uk  \n",
       "4              20000 - 30000/annum 20-30K             25000  cv-library.co.uk  "
      ]
     },
     "execution_count": 207,
     "metadata": {},
     "output_type": "execute_result"
    }
   ],
   "source": [
    "data = pd.read_csv('train-cedited.csv', sep=',')\n",
    "data.head()"
   ]
  },
  {
   "cell_type": "markdown",
   "metadata": {},
   "source": [
    "# Modeling sklearn\n",
    "\n",
    "To use scikits-learn, we first need to create our design matrix X from our initial dataframe.  There many way to do this. Once we have that matrix X, we will use model.fit(X, y) to fit the model."
   ]
  },
  {
   "cell_type": "code",
   "execution_count": 100,
   "metadata": {
    "collapsed": true
   },
   "outputs": [],
   "source": [
    "from sklearn.linear_model import LinearRegression\n",
    "\n",
    "model = LinearRegression() \n",
    "# model = model.fit(X, data.SalaryNormalized) # This won't work yet, until we create X from our dataframe"
   ]
  },
  {
   "cell_type": "markdown",
   "metadata": {},
   "source": [
    "## Using get_dummies to create the design matrix\n",
    "\n",
    "We can use the Pandas function get_dummies. \n",
    "\n",
    "It creates from a single column - data.Category - \n",
    "multiple columns, one for each unique value in data.Category. \n",
    "Each row corresponds to a row from the original data, and would have exactly one column\n",
    "with value 1, according to the job category of that worker. (For example, notice that all first 5 rows in data\n",
    "has Category = Engineering Jobs, and therefor the first 5 rows in the design matrix has 1 in the engineering jobs column."
   ]
  },
  {
   "cell_type": "code",
   "execution_count": 181,
   "metadata": {
    "collapsed": false
   },
   "outputs": [
    {
     "data": {
      "text/html": [
       "<div>\n",
       "<table border=\"1\" class=\"dataframe\">\n",
       "  <thead>\n",
       "    <tr style=\"text-align: right;\">\n",
       "      <th></th>\n",
       "      <th>Accounting &amp; Finance Jobs</th>\n",
       "      <th>Admin Jobs</th>\n",
       "      <th>Charity &amp; Voluntary Jobs</th>\n",
       "      <th>Consultancy Jobs</th>\n",
       "      <th>Creative &amp; Design Jobs</th>\n",
       "      <th>Customer Services Jobs</th>\n",
       "      <th>Domestic help &amp; Cleaning Jobs</th>\n",
       "      <th>Energy, Oil &amp; Gas Jobs</th>\n",
       "      <th>Engineering Jobs</th>\n",
       "      <th>HR &amp; Recruitment Jobs</th>\n",
       "      <th>...</th>\n",
       "      <th>Other/General Jobs</th>\n",
       "      <th>PR, Advertising &amp; Marketing Jobs</th>\n",
       "      <th>Property Jobs</th>\n",
       "      <th>Retail Jobs</th>\n",
       "      <th>Sales Jobs</th>\n",
       "      <th>Scientific &amp; QA Jobs</th>\n",
       "      <th>Social work Jobs</th>\n",
       "      <th>Teaching Jobs</th>\n",
       "      <th>Trade &amp; Construction Jobs</th>\n",
       "      <th>Travel Jobs</th>\n",
       "    </tr>\n",
       "  </thead>\n",
       "  <tbody>\n",
       "    <tr>\n",
       "      <th>0</th>\n",
       "      <td>0</td>\n",
       "      <td>0</td>\n",
       "      <td>0</td>\n",
       "      <td>0</td>\n",
       "      <td>0</td>\n",
       "      <td>0</td>\n",
       "      <td>0</td>\n",
       "      <td>0</td>\n",
       "      <td>1</td>\n",
       "      <td>0</td>\n",
       "      <td>...</td>\n",
       "      <td>0</td>\n",
       "      <td>0</td>\n",
       "      <td>0</td>\n",
       "      <td>0</td>\n",
       "      <td>0</td>\n",
       "      <td>0</td>\n",
       "      <td>0</td>\n",
       "      <td>0</td>\n",
       "      <td>0</td>\n",
       "      <td>0</td>\n",
       "    </tr>\n",
       "    <tr>\n",
       "      <th>1</th>\n",
       "      <td>0</td>\n",
       "      <td>0</td>\n",
       "      <td>0</td>\n",
       "      <td>0</td>\n",
       "      <td>0</td>\n",
       "      <td>0</td>\n",
       "      <td>0</td>\n",
       "      <td>0</td>\n",
       "      <td>1</td>\n",
       "      <td>0</td>\n",
       "      <td>...</td>\n",
       "      <td>0</td>\n",
       "      <td>0</td>\n",
       "      <td>0</td>\n",
       "      <td>0</td>\n",
       "      <td>0</td>\n",
       "      <td>0</td>\n",
       "      <td>0</td>\n",
       "      <td>0</td>\n",
       "      <td>0</td>\n",
       "      <td>0</td>\n",
       "    </tr>\n",
       "    <tr>\n",
       "      <th>2</th>\n",
       "      <td>0</td>\n",
       "      <td>0</td>\n",
       "      <td>0</td>\n",
       "      <td>0</td>\n",
       "      <td>0</td>\n",
       "      <td>0</td>\n",
       "      <td>0</td>\n",
       "      <td>0</td>\n",
       "      <td>1</td>\n",
       "      <td>0</td>\n",
       "      <td>...</td>\n",
       "      <td>0</td>\n",
       "      <td>0</td>\n",
       "      <td>0</td>\n",
       "      <td>0</td>\n",
       "      <td>0</td>\n",
       "      <td>0</td>\n",
       "      <td>0</td>\n",
       "      <td>0</td>\n",
       "      <td>0</td>\n",
       "      <td>0</td>\n",
       "    </tr>\n",
       "    <tr>\n",
       "      <th>3</th>\n",
       "      <td>0</td>\n",
       "      <td>0</td>\n",
       "      <td>0</td>\n",
       "      <td>0</td>\n",
       "      <td>0</td>\n",
       "      <td>0</td>\n",
       "      <td>0</td>\n",
       "      <td>0</td>\n",
       "      <td>1</td>\n",
       "      <td>0</td>\n",
       "      <td>...</td>\n",
       "      <td>0</td>\n",
       "      <td>0</td>\n",
       "      <td>0</td>\n",
       "      <td>0</td>\n",
       "      <td>0</td>\n",
       "      <td>0</td>\n",
       "      <td>0</td>\n",
       "      <td>0</td>\n",
       "      <td>0</td>\n",
       "      <td>0</td>\n",
       "    </tr>\n",
       "    <tr>\n",
       "      <th>4</th>\n",
       "      <td>0</td>\n",
       "      <td>0</td>\n",
       "      <td>0</td>\n",
       "      <td>0</td>\n",
       "      <td>0</td>\n",
       "      <td>0</td>\n",
       "      <td>0</td>\n",
       "      <td>0</td>\n",
       "      <td>1</td>\n",
       "      <td>0</td>\n",
       "      <td>...</td>\n",
       "      <td>0</td>\n",
       "      <td>0</td>\n",
       "      <td>0</td>\n",
       "      <td>0</td>\n",
       "      <td>0</td>\n",
       "      <td>0</td>\n",
       "      <td>0</td>\n",
       "      <td>0</td>\n",
       "      <td>0</td>\n",
       "      <td>0</td>\n",
       "    </tr>\n",
       "  </tbody>\n",
       "</table>\n",
       "<p>5 rows × 28 columns</p>\n",
       "</div>"
      ],
      "text/plain": [
       "   Accounting & Finance Jobs  Admin Jobs  Charity & Voluntary Jobs  \\\n",
       "0                          0           0                         0   \n",
       "1                          0           0                         0   \n",
       "2                          0           0                         0   \n",
       "3                          0           0                         0   \n",
       "4                          0           0                         0   \n",
       "\n",
       "   Consultancy Jobs  Creative & Design Jobs  Customer Services Jobs  \\\n",
       "0                 0                       0                       0   \n",
       "1                 0                       0                       0   \n",
       "2                 0                       0                       0   \n",
       "3                 0                       0                       0   \n",
       "4                 0                       0                       0   \n",
       "\n",
       "   Domestic help & Cleaning Jobs  Energy, Oil & Gas Jobs  Engineering Jobs  \\\n",
       "0                              0                       0                 1   \n",
       "1                              0                       0                 1   \n",
       "2                              0                       0                 1   \n",
       "3                              0                       0                 1   \n",
       "4                              0                       0                 1   \n",
       "\n",
       "   HR & Recruitment Jobs     ...       Other/General Jobs  \\\n",
       "0                      0     ...                        0   \n",
       "1                      0     ...                        0   \n",
       "2                      0     ...                        0   \n",
       "3                      0     ...                        0   \n",
       "4                      0     ...                        0   \n",
       "\n",
       "   PR, Advertising & Marketing Jobs  Property Jobs  Retail Jobs  Sales Jobs  \\\n",
       "0                                 0              0            0           0   \n",
       "1                                 0              0            0           0   \n",
       "2                                 0              0            0           0   \n",
       "3                                 0              0            0           0   \n",
       "4                                 0              0            0           0   \n",
       "\n",
       "   Scientific & QA Jobs  Social work Jobs  Teaching Jobs  \\\n",
       "0                     0                 0              0   \n",
       "1                     0                 0              0   \n",
       "2                     0                 0              0   \n",
       "3                     0                 0              0   \n",
       "4                     0                 0              0   \n",
       "\n",
       "   Trade & Construction Jobs  Travel Jobs  \n",
       "0                          0            0  \n",
       "1                          0            0  \n",
       "2                          0            0  \n",
       "3                          0            0  \n",
       "4                          0            0  \n",
       "\n",
       "[5 rows x 28 columns]"
      ]
     },
     "execution_count": 181,
     "metadata": {},
     "output_type": "execute_result"
    }
   ],
   "source": [
    "category_dummies = pd.get_dummies(data.Category)\n",
    "category_dummies.head()"
   ]
  },
  {
   "cell_type": "markdown",
   "metadata": {},
   "source": [
    "## Feature Engineering using dmatrix \n",
    "\n",
    "Lets see another way to do the same thing"
   ]
  },
  {
   "cell_type": "code",
   "execution_count": 213,
   "metadata": {
    "collapsed": false
   },
   "outputs": [
    {
     "data": {
      "text/html": [
       "<div>\n",
       "<table border=\"1\" class=\"dataframe\">\n",
       "  <thead>\n",
       "    <tr style=\"text-align: right;\">\n",
       "      <th></th>\n",
       "      <th>Category[Accounting &amp; Finance Jobs]</th>\n",
       "      <th>Category[Admin Jobs]</th>\n",
       "      <th>Category[Charity &amp; Voluntary Jobs]</th>\n",
       "      <th>Category[Consultancy Jobs]</th>\n",
       "      <th>Category[Creative &amp; Design Jobs]</th>\n",
       "      <th>Category[Customer Services Jobs]</th>\n",
       "      <th>Category[Domestic help &amp; Cleaning Jobs]</th>\n",
       "      <th>Category[Energy, Oil &amp; Gas Jobs]</th>\n",
       "      <th>Category[Engineering Jobs]</th>\n",
       "      <th>Category[HR &amp; Recruitment Jobs]</th>\n",
       "      <th>...</th>\n",
       "      <th>Category[Other/General Jobs]</th>\n",
       "      <th>Category[PR, Advertising &amp; Marketing Jobs]</th>\n",
       "      <th>Category[Property Jobs]</th>\n",
       "      <th>Category[Retail Jobs]</th>\n",
       "      <th>Category[Sales Jobs]</th>\n",
       "      <th>Category[Scientific &amp; QA Jobs]</th>\n",
       "      <th>Category[Social work Jobs]</th>\n",
       "      <th>Category[Teaching Jobs]</th>\n",
       "      <th>Category[Trade &amp; Construction Jobs]</th>\n",
       "      <th>Category[Travel Jobs]</th>\n",
       "    </tr>\n",
       "  </thead>\n",
       "  <tbody>\n",
       "    <tr>\n",
       "      <th>0</th>\n",
       "      <td>0</td>\n",
       "      <td>0</td>\n",
       "      <td>0</td>\n",
       "      <td>0</td>\n",
       "      <td>0</td>\n",
       "      <td>0</td>\n",
       "      <td>0</td>\n",
       "      <td>0</td>\n",
       "      <td>1</td>\n",
       "      <td>0</td>\n",
       "      <td>...</td>\n",
       "      <td>0</td>\n",
       "      <td>0</td>\n",
       "      <td>0</td>\n",
       "      <td>0</td>\n",
       "      <td>0</td>\n",
       "      <td>0</td>\n",
       "      <td>0</td>\n",
       "      <td>0</td>\n",
       "      <td>0</td>\n",
       "      <td>0</td>\n",
       "    </tr>\n",
       "    <tr>\n",
       "      <th>1</th>\n",
       "      <td>0</td>\n",
       "      <td>0</td>\n",
       "      <td>0</td>\n",
       "      <td>0</td>\n",
       "      <td>0</td>\n",
       "      <td>0</td>\n",
       "      <td>0</td>\n",
       "      <td>0</td>\n",
       "      <td>1</td>\n",
       "      <td>0</td>\n",
       "      <td>...</td>\n",
       "      <td>0</td>\n",
       "      <td>0</td>\n",
       "      <td>0</td>\n",
       "      <td>0</td>\n",
       "      <td>0</td>\n",
       "      <td>0</td>\n",
       "      <td>0</td>\n",
       "      <td>0</td>\n",
       "      <td>0</td>\n",
       "      <td>0</td>\n",
       "    </tr>\n",
       "    <tr>\n",
       "      <th>2</th>\n",
       "      <td>0</td>\n",
       "      <td>0</td>\n",
       "      <td>0</td>\n",
       "      <td>0</td>\n",
       "      <td>0</td>\n",
       "      <td>0</td>\n",
       "      <td>0</td>\n",
       "      <td>0</td>\n",
       "      <td>1</td>\n",
       "      <td>0</td>\n",
       "      <td>...</td>\n",
       "      <td>0</td>\n",
       "      <td>0</td>\n",
       "      <td>0</td>\n",
       "      <td>0</td>\n",
       "      <td>0</td>\n",
       "      <td>0</td>\n",
       "      <td>0</td>\n",
       "      <td>0</td>\n",
       "      <td>0</td>\n",
       "      <td>0</td>\n",
       "    </tr>\n",
       "    <tr>\n",
       "      <th>3</th>\n",
       "      <td>0</td>\n",
       "      <td>0</td>\n",
       "      <td>0</td>\n",
       "      <td>0</td>\n",
       "      <td>0</td>\n",
       "      <td>0</td>\n",
       "      <td>0</td>\n",
       "      <td>0</td>\n",
       "      <td>1</td>\n",
       "      <td>0</td>\n",
       "      <td>...</td>\n",
       "      <td>0</td>\n",
       "      <td>0</td>\n",
       "      <td>0</td>\n",
       "      <td>0</td>\n",
       "      <td>0</td>\n",
       "      <td>0</td>\n",
       "      <td>0</td>\n",
       "      <td>0</td>\n",
       "      <td>0</td>\n",
       "      <td>0</td>\n",
       "    </tr>\n",
       "    <tr>\n",
       "      <th>4</th>\n",
       "      <td>0</td>\n",
       "      <td>0</td>\n",
       "      <td>0</td>\n",
       "      <td>0</td>\n",
       "      <td>0</td>\n",
       "      <td>0</td>\n",
       "      <td>0</td>\n",
       "      <td>0</td>\n",
       "      <td>1</td>\n",
       "      <td>0</td>\n",
       "      <td>...</td>\n",
       "      <td>0</td>\n",
       "      <td>0</td>\n",
       "      <td>0</td>\n",
       "      <td>0</td>\n",
       "      <td>0</td>\n",
       "      <td>0</td>\n",
       "      <td>0</td>\n",
       "      <td>0</td>\n",
       "      <td>0</td>\n",
       "      <td>0</td>\n",
       "    </tr>\n",
       "  </tbody>\n",
       "</table>\n",
       "<p>5 rows × 28 columns</p>\n",
       "</div>"
      ],
      "text/plain": [
       "   Category[Accounting & Finance Jobs]  Category[Admin Jobs]  \\\n",
       "0                                    0                     0   \n",
       "1                                    0                     0   \n",
       "2                                    0                     0   \n",
       "3                                    0                     0   \n",
       "4                                    0                     0   \n",
       "\n",
       "   Category[Charity & Voluntary Jobs]  Category[Consultancy Jobs]  \\\n",
       "0                                   0                           0   \n",
       "1                                   0                           0   \n",
       "2                                   0                           0   \n",
       "3                                   0                           0   \n",
       "4                                   0                           0   \n",
       "\n",
       "   Category[Creative & Design Jobs]  Category[Customer Services Jobs]  \\\n",
       "0                                 0                                 0   \n",
       "1                                 0                                 0   \n",
       "2                                 0                                 0   \n",
       "3                                 0                                 0   \n",
       "4                                 0                                 0   \n",
       "\n",
       "   Category[Domestic help & Cleaning Jobs]  Category[Energy, Oil & Gas Jobs]  \\\n",
       "0                                        0                                 0   \n",
       "1                                        0                                 0   \n",
       "2                                        0                                 0   \n",
       "3                                        0                                 0   \n",
       "4                                        0                                 0   \n",
       "\n",
       "   Category[Engineering Jobs]  Category[HR & Recruitment Jobs]  \\\n",
       "0                           1                                0   \n",
       "1                           1                                0   \n",
       "2                           1                                0   \n",
       "3                           1                                0   \n",
       "4                           1                                0   \n",
       "\n",
       "           ...            Category[Other/General Jobs]  \\\n",
       "0          ...                                       0   \n",
       "1          ...                                       0   \n",
       "2          ...                                       0   \n",
       "3          ...                                       0   \n",
       "4          ...                                       0   \n",
       "\n",
       "   Category[PR, Advertising & Marketing Jobs]  Category[Property Jobs]  \\\n",
       "0                                           0                        0   \n",
       "1                                           0                        0   \n",
       "2                                           0                        0   \n",
       "3                                           0                        0   \n",
       "4                                           0                        0   \n",
       "\n",
       "   Category[Retail Jobs]  Category[Sales Jobs]  \\\n",
       "0                      0                     0   \n",
       "1                      0                     0   \n",
       "2                      0                     0   \n",
       "3                      0                     0   \n",
       "4                      0                     0   \n",
       "\n",
       "   Category[Scientific & QA Jobs]  Category[Social work Jobs]  \\\n",
       "0                               0                           0   \n",
       "1                               0                           0   \n",
       "2                               0                           0   \n",
       "3                               0                           0   \n",
       "4                               0                           0   \n",
       "\n",
       "   Category[Teaching Jobs]  Category[Trade & Construction Jobs]  \\\n",
       "0                        0                                    0   \n",
       "1                        0                                    0   \n",
       "2                        0                                    0   \n",
       "3                        0                                    0   \n",
       "4                        0                                    0   \n",
       "\n",
       "   Category[Travel Jobs]  \n",
       "0                      0  \n",
       "1                      0  \n",
       "2                      0  \n",
       "3                      0  \n",
       "4                      0  \n",
       "\n",
       "[5 rows x 28 columns]"
      ]
     },
     "execution_count": 213,
     "metadata": {},
     "output_type": "execute_result"
    }
   ],
   "source": [
    "from patsy import dmatrices, dmatrix\n",
    "# The '+ 0' syntax throws aways the intercept since we don't need that as a column\n",
    "X = dmatrix(\"Category + 0\", data=data, return_type='dataframe')\n",
    "\n",
    "X.head()"
   ]
  },
  {
   "cell_type": "markdown",
   "metadata": {},
   "source": [
    "## Train-Test Split\n",
    "\n",
    "We can create a split of OUR training data, to evaluate our model, our features and any parameters we have set.  We want to have some idea of how well we will do on the true test set since we do not know the true salaries on that set.  That is representative of new data we expect in the future.\n",
    "The default score method of LinearRegression is R^2. \n",
    "https://en.wikipedia.org/wiki/Coefficient_of_determination"
   ]
  },
  {
   "cell_type": "code",
   "execution_count": 216,
   "metadata": {
    "collapsed": false
   },
   "outputs": [
    {
     "data": {
      "text/plain": [
       "0.13120634168938916"
      ]
     },
     "execution_count": 216,
     "metadata": {},
     "output_type": "execute_result"
    }
   ],
   "source": [
    "from sklearn.cross_validation import train_test_split\n",
    "\n",
    "X_train, X_test, y_train, y_test = train_test_split(X, data.SalaryNormalized)\n",
    "model.fit(X_train, y_train)\n",
    "model.score(X_test, y_test) # This is the R^2 score"
   ]
  },
  {
   "cell_type": "markdown",
   "metadata": {},
   "source": [
    "## Evaluating using MAE\n",
    "\n",
    "As mentioned, our evaluation criteria is going to be MAE - Mean Absolute Error, we want the lowest average error of salary prediction  "
   ]
  },
  {
   "cell_type": "code",
   "execution_count": 217,
   "metadata": {
    "collapsed": false
   },
   "outputs": [
    {
     "name": "stdout",
     "output_type": "stream",
     "text": [
      "10922.9524\n"
     ]
    }
   ],
   "source": [
    "from sklearn.metrics import mean_absolute_error\n",
    "\n",
    "predicted_salaries = model.predict(X_test)\n",
    "print (mean_absolute_error(y_test, predicted_salaries))"
   ]
  },
  {
   "cell_type": "markdown",
   "metadata": {},
   "source": [
    "## Cross Validation"
   ]
  },
  {
   "cell_type": "code",
   "execution_count": 201,
   "metadata": {
    "collapsed": false
   },
   "outputs": [
    {
     "name": "stdout",
     "output_type": "stream",
     "text": [
      "R-squared: [ 0.16976911  0.07820618  0.19462668]\n",
      "Mean absolute error [  9945.80854771  10189.04253533  10966.73806919]\n",
      "Mean absolute error average:  10367.1963793\n"
     ]
    }
   ],
   "source": [
    "from sklearn.cross_validation import cross_val_score\n",
    "from sklearn.metrics import make_scorer \n",
    "print (\"R-squared:\", cross_val_score(model, X, data.SalaryNormalized, scoring = 'r2'))\n",
    "print (\"Mean absolute error\", cross_val_score(model, X, data.SalaryNormalized, scoring=make_scorer(mean_absolute_error)))\n",
    "print (\"Mean absolute error average: \", cross_val_score(model, X, data.SalaryNormalized, scoring=make_scorer(mean_absolute_error)).mean())"
   ]
  },
  {
   "cell_type": "markdown",
   "metadata": {},
   "source": [
    "## Adding text features"
   ]
  },
  {
   "cell_type": "code",
   "execution_count": 199,
   "metadata": {
    "collapsed": false
   },
   "outputs": [],
   "source": [
    "# Making your own dummy columns\n",
    "from scipy.sparse import hstack\n",
    "\n",
    "data['isManager'] = data.FullDescription.str.lower().map(lambda x: 1 if 'manager' in x else 0)\n",
    "data['isAssistant'] = data.FullDescription.str.lower().map(lambda x: 1 if 'assistant' in x else 0)\n",
    "data['isExecutive'] = data.FullDescription.str.lower().map(lambda x: 1 if 'exec' in x or 'ceo' in x or 'president' in x else 0)\n",
    "\n",
    "X = hstack((data[['isManager', 'isAssistant', 'isExecutive']], category_dummies))\n"
   ]
  },
  {
   "cell_type": "code",
   "execution_count": 200,
   "metadata": {
    "collapsed": false
   },
   "outputs": [
    {
     "name": "stdout",
     "output_type": "stream",
     "text": [
      "Mean absolute error mean:  10367.1963674\n"
     ]
    }
   ],
   "source": [
    "print (\"Mean absolute error: \", cross_val_score(model, X, data.SalaryNormalized, scoring=make_scorer(mean_absolute_error)).mean())"
   ]
  },
  {
   "cell_type": "markdown",
   "metadata": {},
   "source": [
    "## --> Our score has imporved! "
   ]
  },
  {
   "cell_type": "code",
   "execution_count": 202,
   "metadata": {
    "collapsed": false
   },
   "outputs": [
    {
     "name": "stdout",
     "output_type": "stream",
     "text": [
      "Mean absolute error:  10363.4525473\n"
     ]
    }
   ],
   "source": [
    "data['ContractType'] = data.ContractType.fillna('NA')\n",
    "X = dmatrix(\"Category + isManager + isAssistant + isExecutive + ContractType\", data=data)\n",
    "print (\"Mean absolute error: \", cross_val_score(model, X, data.SalaryNormalized, scoring=make_scorer(mean_absolute_error)).mean())"
   ]
  },
  {
   "cell_type": "markdown",
   "metadata": {},
   "source": [
    "## Lets add another feature"
   ]
  },
  {
   "cell_type": "code",
   "execution_count": 205,
   "metadata": {
    "collapsed": false
   },
   "outputs": [
    {
     "name": "stdout",
     "output_type": "stream",
     "text": [
      "Mean absolute error:  10275.3755651\n"
     ]
    }
   ],
   "source": [
    "QuantJob = ['analyst','analytical', 'analysis', 'math', 'quant', 'model', 'science', 'scientific', 'simulation', 'simulate', 'engineer']\n",
    "def Quantitative(desc):\n",
    "    for x in QuantJob:\n",
    "        if x.lower() in str(desc).lower():\n",
    "            return 1\n",
    "    return 0\n",
    "data['QuantJob'] = data['FullDescription'].map(Quantitative)\n",
    "X = dmatrix(\"Category + isManager + isAssistant + isExecutive + ContractType + QuantJob + 0\", data=data)\n",
    "print (\"Mean absolute error: \", cross_val_score(model, X, data.SalaryNormalized, scoring=make_scorer(mean_absolute_error)).mean())"
   ]
  },
  {
   "cell_type": "markdown",
   "metadata": {},
   "source": [
    "## Your Turn!\n",
    "\n",
    "Think how you can imporve our model score. Use your domain knowledge and come up with new \n",
    "features, then test your new model and see if the MAE has improved"
   ]
  },
  {
   "cell_type": "code",
   "execution_count": null,
   "metadata": {
    "collapsed": true
   },
   "outputs": [],
   "source": []
  }
 ],
 "metadata": {
  "kernelspec": {
   "display_name": "Python 3",
   "language": "python",
   "name": "python3"
  },
  "language_info": {
   "codemirror_mode": {
    "name": "ipython",
    "version": 3
   },
   "file_extension": ".py",
   "mimetype": "text/x-python",
   "name": "python",
   "nbconvert_exporter": "python",
   "pygments_lexer": "ipython3",
   "version": "3.4.3"
  }
 },
 "nbformat": 4,
 "nbformat_minor": 0
}
