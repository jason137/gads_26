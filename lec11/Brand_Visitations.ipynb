{
 "cells": [
  {
   "cell_type": "markdown",
   "metadata": {},
   "source": [
    "# Overview"
   ]
  },
  {
   "cell_type": "markdown",
   "metadata": {},
   "source": [
    "### The Goal of my project is optimizing video ads targeting based on historical user data.  I am using a user categories data set from a recent  campaign, trying to build a predictive model that will predict the likelihood of visiting the Brand Web Site   "
   ]
  },
  {
   "cell_type": "markdown",
   "metadata": {},
   "source": [
    "# 1. The Data Set "
   ]
  },
  {
   "cell_type": "markdown",
   "metadata": {},
   "source": [
    "The data source comes from 3rd party data providers. "
   ]
  },
  {
   "cell_type": "markdown",
   "metadata": {},
   "source": [
    "## Pre - Processing Data"
   ]
  },
  {
   "cell_type": "markdown",
   "metadata": {},
   "source": [
    "The original data file cotained over 40K features. To make the data more managable I created a pre processing python script\n",
    "which merged some of the features and removed others."
   ]
  },
  {
   "cell_type": "markdown",
   "metadata": {},
   "source": [
    "## Load & Cleanup Data:¶"
   ]
  },
  {
   "cell_type": "markdown",
   "metadata": {},
   "source": [
    "- Each row represents one user. \n",
    "- The columns (or features) are the user categories - this is our “X” variable. <br>\n",
    "- The target (our \"Y\" variable) is the \"Visited Brand\" column, which is a true (\"1\") if the user either visited the \n",
    "  website in the past, or clicked on an ad - I assume that this means the user is \"Intrested In the Brand\"\n",
    "\n",
    "\n"
   ]
  },
  {
   "cell_type": "code",
   "execution_count": 17,
   "metadata": {
    "collapsed": false
   },
   "outputs": [],
   "source": [
    "data = pd.read_csv('/vagrant/829/filtered_output_for_campaign_829.csv')\n",
    "df = data.fillna(0)  ## replace null values with zeros\n",
    "df = df.rename(columns={'PIA': 'Visited Brand'})\n",
    "df = df.drop(['DATE','USER ID', 'CAMPAIGN ID','Retargeting', 'Clicker'], axis=1) \n",
    "df = df.ix[:,(df != 0).any(axis=0)] ## remove all columns with all zeros\n",
    "df = df.ix[(df != 0).any(axis=1),:] ## remove all rows with all zeros\n",
    "X = df.drop(['Visited Brand'], axis=1)\n",
    "Y = df['Visited Brand']"
   ]
  },
  {
   "cell_type": "markdown",
   "metadata": {},
   "source": [
    "##### Our data set contains 37645 rows and 1168 columns:"
   ]
  },
  {
   "cell_type": "code",
   "execution_count": 10,
   "metadata": {
    "collapsed": false
   },
   "outputs": [
    {
     "data": {
      "text/html": [
       "<div style=\"max-height:1000px;max-width:1500px;overflow:auto;\">\n",
       "<table border=\"1\" class=\"dataframe\">\n",
       "  <thead>\n",
       "    <tr style=\"text-align: right;\">\n",
       "      <th></th>\n",
       "      <th> 10 - General Interest - Auto Enthusiasts</th>\n",
       "      <th> 1006 - General Interest - Green Living</th>\n",
       "      <th> 1007 - Politics - Political Junkies</th>\n",
       "      <th> 10082 - Finance and Insurance - Mortgages - Mortgage Hyper-Intent</th>\n",
       "      <th> 1017 - Shopping - Mobile - Carrier: AT&amp;T</th>\n",
       "      <th> 10179 - Travel - Departure - Europe</th>\n",
       "      <th> 1018 - Shopping - Mobile - Carrier: T-Mobile</th>\n",
       "      <th> 10180 - Travel - Departure - North America</th>\n",
       "      <th> 1019 - Shopping - Mobile - Carrier: Sprint</th>\n",
       "      <th> 1020 - Shopping - Mobile - Carrier: Verizon</th>\n",
       "      <th>...</th>\n",
       "      <th> 9315 - Auto - Buyers - Make:RAM - 1500</th>\n",
       "      <th> 9321 - Auto - Buyers - Make:Tesla - Model S</th>\n",
       "      <th> 9638 - Finance and Insurance - Auto Intenders</th>\n",
       "      <th> 9969 - Finance and Insurance - Banking - Checking and Savings</th>\n",
       "      <th> 9970 - Finance and Insurance - Credit Cards - Small Business</th>\n",
       "      <th> 9989 - CPG - Dish and Dishwasher Detergent</th>\n",
       "      <th> 3211 - Services - Personal Services and Care - Children Daycare</th>\n",
       "      <th> 5106 - Entertainment - Music - Jazz/Blues</th>\n",
       "      <th>Completer</th>\n",
       "      <th>Visited Brand</th>\n",
       "    </tr>\n",
       "  </thead>\n",
       "  <tbody>\n",
       "    <tr>\n",
       "      <th>0</th>\n",
       "      <td> 0</td>\n",
       "      <td> 0</td>\n",
       "      <td> 0</td>\n",
       "      <td> 0</td>\n",
       "      <td> 0</td>\n",
       "      <td> 0</td>\n",
       "      <td> 0</td>\n",
       "      <td> 0</td>\n",
       "      <td> 0</td>\n",
       "      <td> 0</td>\n",
       "      <td>...</td>\n",
       "      <td> 0</td>\n",
       "      <td> 0</td>\n",
       "      <td> 0</td>\n",
       "      <td> 0</td>\n",
       "      <td> 0</td>\n",
       "      <td> 0</td>\n",
       "      <td> 0</td>\n",
       "      <td> 0</td>\n",
       "      <td> 1</td>\n",
       "      <td> 0</td>\n",
       "    </tr>\n",
       "    <tr>\n",
       "      <th>1</th>\n",
       "      <td> 1</td>\n",
       "      <td> 0</td>\n",
       "      <td> 0</td>\n",
       "      <td> 0</td>\n",
       "      <td> 0</td>\n",
       "      <td> 0</td>\n",
       "      <td> 0</td>\n",
       "      <td> 0</td>\n",
       "      <td> 0</td>\n",
       "      <td> 0</td>\n",
       "      <td>...</td>\n",
       "      <td> 0</td>\n",
       "      <td> 0</td>\n",
       "      <td> 0</td>\n",
       "      <td> 1</td>\n",
       "      <td> 1</td>\n",
       "      <td> 0</td>\n",
       "      <td> 0</td>\n",
       "      <td> 0</td>\n",
       "      <td> 0</td>\n",
       "      <td> 0</td>\n",
       "    </tr>\n",
       "    <tr>\n",
       "      <th>2</th>\n",
       "      <td> 1</td>\n",
       "      <td> 1</td>\n",
       "      <td> 1</td>\n",
       "      <td> 0</td>\n",
       "      <td> 0</td>\n",
       "      <td> 0</td>\n",
       "      <td> 0</td>\n",
       "      <td> 0</td>\n",
       "      <td> 0</td>\n",
       "      <td> 0</td>\n",
       "      <td>...</td>\n",
       "      <td> 0</td>\n",
       "      <td> 0</td>\n",
       "      <td> 0</td>\n",
       "      <td> 1</td>\n",
       "      <td> 1</td>\n",
       "      <td> 0</td>\n",
       "      <td> 0</td>\n",
       "      <td> 0</td>\n",
       "      <td> 1</td>\n",
       "      <td> 1</td>\n",
       "    </tr>\n",
       "    <tr>\n",
       "      <th>3</th>\n",
       "      <td> 1</td>\n",
       "      <td> 1</td>\n",
       "      <td> 1</td>\n",
       "      <td> 0</td>\n",
       "      <td> 0</td>\n",
       "      <td> 0</td>\n",
       "      <td> 0</td>\n",
       "      <td> 0</td>\n",
       "      <td> 0</td>\n",
       "      <td> 0</td>\n",
       "      <td>...</td>\n",
       "      <td> 0</td>\n",
       "      <td> 0</td>\n",
       "      <td> 1</td>\n",
       "      <td> 1</td>\n",
       "      <td> 1</td>\n",
       "      <td> 1</td>\n",
       "      <td> 0</td>\n",
       "      <td> 0</td>\n",
       "      <td> 1</td>\n",
       "      <td> 0</td>\n",
       "    </tr>\n",
       "    <tr>\n",
       "      <th>4</th>\n",
       "      <td> 1</td>\n",
       "      <td> 0</td>\n",
       "      <td> 0</td>\n",
       "      <td> 0</td>\n",
       "      <td> 0</td>\n",
       "      <td> 0</td>\n",
       "      <td> 0</td>\n",
       "      <td> 0</td>\n",
       "      <td> 0</td>\n",
       "      <td> 0</td>\n",
       "      <td>...</td>\n",
       "      <td> 0</td>\n",
       "      <td> 0</td>\n",
       "      <td> 1</td>\n",
       "      <td> 1</td>\n",
       "      <td> 1</td>\n",
       "      <td> 0</td>\n",
       "      <td> 0</td>\n",
       "      <td> 0</td>\n",
       "      <td> 1</td>\n",
       "      <td> 1</td>\n",
       "    </tr>\n",
       "  </tbody>\n",
       "</table>\n",
       "<p>5 rows × 1168 columns</p>\n",
       "</div>"
      ],
      "text/plain": [
       "    10 - General Interest - Auto Enthusiasts  \\\n",
       "0                                          0   \n",
       "1                                          1   \n",
       "2                                          1   \n",
       "3                                          1   \n",
       "4                                          1   \n",
       "\n",
       "    1006 - General Interest - Green Living  \\\n",
       "0                                        0   \n",
       "1                                        0   \n",
       "2                                        1   \n",
       "3                                        1   \n",
       "4                                        0   \n",
       "\n",
       "    1007 - Politics - Political Junkies  \\\n",
       "0                                     0   \n",
       "1                                     0   \n",
       "2                                     1   \n",
       "3                                     1   \n",
       "4                                     0   \n",
       "\n",
       "    10082 - Finance and Insurance - Mortgages - Mortgage Hyper-Intent  \\\n",
       "0                                                  0                    \n",
       "1                                                  0                    \n",
       "2                                                  0                    \n",
       "3                                                  0                    \n",
       "4                                                  0                    \n",
       "\n",
       "    1017 - Shopping - Mobile - Carrier: AT&T  \\\n",
       "0                                          0   \n",
       "1                                          0   \n",
       "2                                          0   \n",
       "3                                          0   \n",
       "4                                          0   \n",
       "\n",
       "    10179 - Travel - Departure - Europe  \\\n",
       "0                                     0   \n",
       "1                                     0   \n",
       "2                                     0   \n",
       "3                                     0   \n",
       "4                                     0   \n",
       "\n",
       "    1018 - Shopping - Mobile - Carrier: T-Mobile  \\\n",
       "0                                              0   \n",
       "1                                              0   \n",
       "2                                              0   \n",
       "3                                              0   \n",
       "4                                              0   \n",
       "\n",
       "    10180 - Travel - Departure - North America  \\\n",
       "0                                            0   \n",
       "1                                            0   \n",
       "2                                            0   \n",
       "3                                            0   \n",
       "4                                            0   \n",
       "\n",
       "    1019 - Shopping - Mobile - Carrier: Sprint  \\\n",
       "0                                            0   \n",
       "1                                            0   \n",
       "2                                            0   \n",
       "3                                            0   \n",
       "4                                            0   \n",
       "\n",
       "    1020 - Shopping - Mobile - Carrier: Verizon  \\\n",
       "0                                             0   \n",
       "1                                             0   \n",
       "2                                             0   \n",
       "3                                             0   \n",
       "4                                             0   \n",
       "\n",
       "                       ...                       \\\n",
       "0                      ...                        \n",
       "1                      ...                        \n",
       "2                      ...                        \n",
       "3                      ...                        \n",
       "4                      ...                        \n",
       "\n",
       "    9315 - Auto - Buyers - Make:RAM - 1500  \\\n",
       "0                                        0   \n",
       "1                                        0   \n",
       "2                                        0   \n",
       "3                                        0   \n",
       "4                                        0   \n",
       "\n",
       "    9321 - Auto - Buyers - Make:Tesla - Model S  \\\n",
       "0                                             0   \n",
       "1                                             0   \n",
       "2                                             0   \n",
       "3                                             0   \n",
       "4                                             0   \n",
       "\n",
       "    9638 - Finance and Insurance - Auto Intenders  \\\n",
       "0                                               0   \n",
       "1                                               0   \n",
       "2                                               0   \n",
       "3                                               1   \n",
       "4                                               1   \n",
       "\n",
       "    9969 - Finance and Insurance - Banking - Checking and Savings  \\\n",
       "0                                                  0                \n",
       "1                                                  1                \n",
       "2                                                  1                \n",
       "3                                                  1                \n",
       "4                                                  1                \n",
       "\n",
       "    9970 - Finance and Insurance - Credit Cards - Small Business  \\\n",
       "0                                                  0               \n",
       "1                                                  1               \n",
       "2                                                  1               \n",
       "3                                                  1               \n",
       "4                                                  1               \n",
       "\n",
       "    9989 - CPG - Dish and Dishwasher Detergent  \\\n",
       "0                                            0   \n",
       "1                                            0   \n",
       "2                                            0   \n",
       "3                                            1   \n",
       "4                                            0   \n",
       "\n",
       "    3211 - Services - Personal Services and Care - Children Daycare  \\\n",
       "0                                                  0                  \n",
       "1                                                  0                  \n",
       "2                                                  0                  \n",
       "3                                                  0                  \n",
       "4                                                  0                  \n",
       "\n",
       "    5106 - Entertainment - Music - Jazz/Blues  Completer  Visited Brand  \n",
       "0                                           0          1              0  \n",
       "1                                           0          0              0  \n",
       "2                                           0          1              1  \n",
       "3                                           0          1              0  \n",
       "4                                           0          1              1  \n",
       "\n",
       "[5 rows x 1168 columns]"
      ]
     },
     "execution_count": 10,
     "metadata": {},
     "output_type": "execute_result"
    }
   ],
   "source": [
    "df.head()"
   ]
  },
  {
   "cell_type": "markdown",
   "metadata": {},
   "source": [
    "## Exploratory data analysis"
   ]
  },
  {
   "cell_type": "markdown",
   "metadata": {},
   "source": [
    "Lets do some simple visualization of our data, just to get a \"feel\".\n"
   ]
  },
  {
   "cell_type": "code",
   "execution_count": 14,
   "metadata": {
    "collapsed": false
   },
   "outputs": [
    {
     "data": {
      "text/plain": [
       "<matplotlib.image.AxesImage at 0x7f947c61f210>"
      ]
     },
     "execution_count": 14,
     "metadata": {},
     "output_type": "execute_result"
    },
    {
     "data": {
      "image/png": "[encoded data removed]",
      "text/plain": [
       "<matplotlib.figure.Figure at 0x7f947deb2990>"
      ]
     },
     "metadata": {},
     "output_type": "display_data"
    }
   ],
   "source": [
    "spy(df.ix[:2000,:])"
   ]
  },
  {
   "cell_type": "code",
   "execution_count": 21,
   "metadata": {
    "collapsed": false
   },
   "outputs": [
    {
     "data": {
      "text/plain": [
       "<matplotlib.text.Text at 0x7f947dd75510>"
      ]
     },
     "execution_count": 21,
     "metadata": {},
     "output_type": "execute_result"
    },
    {
     "data": {
      "image/png": "[encoded data removed]",
      "text/plain": [
       "<matplotlib.figure.Figure at 0x7f947df92a90>"
      ]
     },
     "metadata": {},
     "output_type": "display_data"
    }
   ],
   "source": [
    "sum_df_row = df.sum(axis=1) ## sum of each row\n",
    "plt.hist(sum_df_row,20)\n",
    "plt.xlabel('Number of features per user bucket')\n",
    "plt.ylabel('Users Count in bucket')"
   ]
  },
  {
   "cell_type": "markdown",
   "metadata": {},
   "source": [
    "The above histogram shows the ditrubution of Number of features and user count. as expected, most users have a low number of\n",
    "features, between 0-25"
   ]
  },
  {
   "cell_type": "markdown",
   "metadata": {},
   "source": [
    "##### Lets see which categories are the most common in our data set: "
   ]
  },
  {
   "cell_type": "code",
   "execution_count": 11,
   "metadata": {
    "collapsed": false
   },
   "outputs": [
    {
     "data": {
      "text/plain": [
       "Completer                                             26877\n",
       " 25 - Entertainment                                   25182\n",
       " 2 - Finance                                          20855\n",
       " 40 - Shopping                                        19625\n",
       " 3365 - General Interest - News and Current Events    17504\n",
       " 1141 - Services - Finance and Insurance - Banking    17403\n",
       " 9160 - Finance and Insurance                         17245\n",
       " 6229 - Auto Owners                                   17227\n",
       " 1438 - CPG                                           16730\n",
       " 32 - Hobbies                                         16719\n",
       "dtype: float64"
      ]
     },
     "execution_count": 11,
     "metadata": {},
     "output_type": "execute_result"
    }
   ],
   "source": [
    "sum_df_col = df.sum(axis=0) ## sum of each column\n",
    "sum_df_col.sort(ascending=False)\n",
    "sum_df_col.head(10)"
   ]
  },
  {
   "cell_type": "markdown",
   "metadata": {},
   "source": [
    "# 2. Model Testing Process"
   ]
  },
  {
   "cell_type": "markdown",
   "metadata": {},
   "source": [
    "We'll start with one model to understand the basic workflow: <br>\n",
    "* Create <b>test - train</b> split: 80% of the data is used for fitting our model, 20% for testing the model.\n",
    "* Fit the model on training data (X_train, Y_train)\n",
    "* Predict probabilities of Test data (X_test) \n",
    "* Score the mofel performance by comparing predicted probabilities with actual resluts (Y_test) "
   ]
  },
  {
   "cell_type": "markdown",
   "metadata": {},
   "source": [
    "### 2.1 Create test - train split"
   ]
  },
  {
   "cell_type": "code",
   "execution_count": 18,
   "metadata": {
    "collapsed": false
   },
   "outputs": [],
   "source": [
    "(X_train, X_test,\n",
    " Y_train, Y_test) = cv.train_test_split(X, Y,\n",
    "                                            test_size=.2)"
   ]
  },
  {
   "cell_type": "markdown",
   "metadata": {},
   "source": [
    "### 2.2 Fit model - Logistic Regression"
   ]
  },
  {
   "cell_type": "code",
   "execution_count": 19,
   "metadata": {
    "collapsed": false
   },
   "outputs": [
    {
     "data": {
      "text/plain": [
       "LogisticRegression(C=1.0, class_weight=None, dual=False, fit_intercept=True,\n",
       "          intercept_scaling=1, penalty='l2', random_state=None, tol=0.0001)"
      ]
     },
     "execution_count": 19,
     "metadata": {},
     "output_type": "execute_result"
    }
   ],
   "source": [
    "model = LogisticRegression()\n",
    "model.fit(X_train,Y_train) "
   ]
  },
  {
   "cell_type": "markdown",
   "metadata": {},
   "source": [
    "### 2.3 Visualization - Display first 10 rows of test set, their predicted probabiliy and actual values "
   ]
  },
  {
   "cell_type": "code",
   "execution_count": 22,
   "metadata": {
    "collapsed": false
   },
   "outputs": [
    {
     "data": {
      "text/html": [
       "<div style=\"max-height:1000px;max-width:1500px;overflow:auto;\">\n",
       "<table border=\"1\" class=\"dataframe\">\n",
       "  <thead>\n",
       "    <tr style=\"text-align: right;\">\n",
       "      <th></th>\n",
       "      <th>Actaul value</th>\n",
       "      <th>Prob of 1</th>\n",
       "    </tr>\n",
       "  </thead>\n",
       "  <tbody>\n",
       "    <tr>\n",
       "      <th>0</th>\n",
       "      <td> 0</td>\n",
       "      <td> 0.320019</td>\n",
       "    </tr>\n",
       "    <tr>\n",
       "      <th>1</th>\n",
       "      <td> 1</td>\n",
       "      <td> 0.402803</td>\n",
       "    </tr>\n",
       "    <tr>\n",
       "      <th>2</th>\n",
       "      <td> 1</td>\n",
       "      <td> 0.204791</td>\n",
       "    </tr>\n",
       "    <tr>\n",
       "      <th>3</th>\n",
       "      <td> 1</td>\n",
       "      <td> 0.212002</td>\n",
       "    </tr>\n",
       "    <tr>\n",
       "      <th>4</th>\n",
       "      <td> 0</td>\n",
       "      <td> 0.586597</td>\n",
       "    </tr>\n",
       "    <tr>\n",
       "      <th>5</th>\n",
       "      <td> 1</td>\n",
       "      <td> 0.644900</td>\n",
       "    </tr>\n",
       "    <tr>\n",
       "      <th>6</th>\n",
       "      <td> 1</td>\n",
       "      <td> 0.707272</td>\n",
       "    </tr>\n",
       "    <tr>\n",
       "      <th>7</th>\n",
       "      <td> 0</td>\n",
       "      <td> 0.181339</td>\n",
       "    </tr>\n",
       "    <tr>\n",
       "      <th>8</th>\n",
       "      <td> 0</td>\n",
       "      <td> 0.317811</td>\n",
       "    </tr>\n",
       "    <tr>\n",
       "      <th>9</th>\n",
       "      <td> 0</td>\n",
       "      <td> 0.144540</td>\n",
       "    </tr>\n",
       "  </tbody>\n",
       "</table>\n",
       "</div>"
      ],
      "text/plain": [
       "   Actaul value  Prob of 1\n",
       "0             0   0.320019\n",
       "1             1   0.402803\n",
       "2             1   0.204791\n",
       "3             1   0.212002\n",
       "4             0   0.586597\n",
       "5             1   0.644900\n",
       "6             1   0.707272\n",
       "7             0   0.181339\n",
       "8             0   0.317811\n",
       "9             0   0.144540"
      ]
     },
     "execution_count": 22,
     "metadata": {},
     "output_type": "execute_result"
    }
   ],
   "source": [
    "Y_test_predicted_prob = model.predict_proba(X_test)\n",
    "pd.DataFrame({'Prob of 1' : pd.Series(Y_test_predicted_prob[:10,1]), 'Actaul value' : Y_test[:10]  })"
   ]
  },
  {
   "cell_type": "code",
   "execution_count": 24,
   "metadata": {
    "collapsed": false
   },
   "outputs": [
    {
     "name": "stdout",
     "output_type": "stream",
     "text": [
      "(array([   22.,   510.,  1931.,  1145.,   832.,   597.,   480.,   409.,\n",
      "         330.,   280.,   225.,   198.,   148.,   134.,    90.,    72.,\n",
      "          56.,    37.,    24.,     9.]), array([ 0.02713403,  0.0751214 ,  0.12310877,  0.17109615,  0.21908352,\n",
      "        0.26707089,  0.31505827,  0.36304564,  0.41103301,  0.45902038,\n",
      "        0.50700776,  0.55499513,  0.6029825 ,  0.65096987,  0.69895725,\n",
      "        0.74694462,  0.79493199,  0.84291937,  0.89090674,  0.93889411,\n",
      "        0.98688148]), <a list of 20 Patch objects>)\n"
     ]
    },
    {
     "data": {
      "image/png": "[encoded data removed]",
      "text/plain": [
       "<matplotlib.figure.Figure at 0x7f4cb2a3bb10>"
      ]
     },
     "metadata": {},
     "output_type": "display_data"
    }
   ],
   "source": [
    "printPredictionPlot(Y_test_predicted_prob, Y_test)"
   ]
  },
  {
   "cell_type": "markdown",
   "metadata": {},
   "source": [
    "### 2.4 Scoring Method - Roc_Auc"
   ]
  },
  {
   "cell_type": "markdown",
   "metadata": {},
   "source": [
    "#### Roc_auc is the best scoring method for our problem as it takes into accout all the different possible thresholds.<br> In addition, roc_auc works for highly unbalanced classes. <br> Choosing the actual threshold is more of a business decision - do I want to maximize TP Rate or minimize FP rate"
   ]
  },
  {
   "cell_type": "code",
   "execution_count": 26,
   "metadata": {
    "collapsed": false
   },
   "outputs": [
    {
     "name": "stdout",
     "output_type": "stream",
     "text": [
      "Roc Score:  0.702166599439\n"
     ]
    }
   ],
   "source": [
    "prob_array = np.array(Y_test_predicted_prob)\n",
    "y_predicted_prob = prob_array[:,1]\n",
    "score_roc_auc = roc_auc_score(Y_test, y_predicted_prob)   \n",
    "print \"Roc Score: \", score_roc_auc"
   ]
  },
  {
   "cell_type": "code",
   "execution_count": 29,
   "metadata": {
    "collapsed": false
   },
   "outputs": [
    {
     "data": {
      "image/png": "[encoded data removed]",
      "text/plain": [
       "<matplotlib.figure.Figure at 0x7f4cc9d58150>"
      ]
     },
     "metadata": {},
     "output_type": "display_data"
    }
   ],
   "source": [
    "display_roc_curve(Y_test, Y_test_predicted_prob)"
   ]
  },
  {
   "cell_type": "markdown",
   "metadata": {},
   "source": [
    "# 3. Model selection - find best model"
   ]
  },
  {
   "cell_type": "markdown",
   "metadata": {},
   "source": [
    "#### Model Tester automates the model testing process and allows us to easily test different models.(See implementaion at the end of this notebook)"
   ]
  },
  {
   "cell_type": "code",
   "execution_count": 38,
   "metadata": {
    "collapsed": false
   },
   "outputs": [
    {
     "name": "stdout",
     "output_type": "stream",
     "text": [
      "testing model:  RandomForest\n",
      "RandomForest had an average roc_auc score of 0.649 \n",
      "\n",
      "testing model:  BernoulliNB\n",
      "BernoulliNB had an average roc_auc score of 0.633 \n",
      "\n",
      "testing model:  AdaBoostClassifier\n",
      "AdaBoostClassifier had an average roc_auc score of 0.704 \n",
      "\n",
      "testing model:  Logistic\n",
      "Logistic had an average roc_auc score of 0.697 \n",
      "\n"
     ]
    }
   ],
   "source": [
    "from sklearn.ensemble import AdaBoostClassifier\n",
    "classifiers = {'Logistic': LogisticRegression(),\n",
    "               'BernoulliNB': BernoulliNB(),                                     \n",
    "               'RandomForest': RandomForestClassifier(),\n",
    "               'AdaBoostClassifier' : AdaBoostClassifier()\n",
    "               }\n",
    "\n",
    "modelTester = ModelTester(X,Y,classifiers)\n",
    "## test_classifiers recieves the number of times to run each model (each time\n",
    "## on different training set). In this case - 3 times\n",
    "modelTester.test_classifiers(3) "
   ]
  },
  {
   "cell_type": "markdown",
   "metadata": {},
   "source": [
    "# 4. Optimize models with grid search "
   ]
  },
  {
   "cell_type": "markdown",
   "metadata": {},
   "source": [
    "#### Grid search allows us to easily test different parameters for each model. ModelOptimizer is a class that automates gridSearch on multiple models (see implementation in the end of this notebook)"
   ]
  },
  {
   "cell_type": "code",
   "execution_count": 39,
   "metadata": {
    "collapsed": false
   },
   "outputs": [
    {
     "name": "stdout",
     "output_type": "stream",
     "text": [
      "BernoulliNB: \n",
      "------------------------\n",
      "score: 0.624579355793\n",
      "best estomator:  BernoulliNB(alpha=0.15250000000000002, binarize=0.0, class_prior=None,\n",
      "      fit_prior=True)\n",
      "best params:  {'alpha': 0.15250000000000002}\n",
      "\n",
      "Logistic: \n",
      "------------------------\n",
      "score: 0.703818914304\n",
      "best estomator:  LogisticRegression(C=0.022311111111111111, class_weight=None, dual=False,\n",
      "          fit_intercept=True, intercept_scaling=1, penalty='l2',\n",
      "          random_state=None, tol=0.0001)\n",
      "best params:  {'C': 0.022311111111111111}\n",
      "\n",
      "RandomForest: \n",
      "------------------------\n",
      "score: 0.700338800137\n",
      "best estomator:  RandomForestClassifier(bootstrap=True, compute_importances=None,\n",
      "            criterion='gini', max_depth=8, max_features='sqrt',\n",
      "            max_leaf_nodes=None, min_density=None, min_samples_leaf=1,\n",
      "            min_samples_split=2, n_estimators=300, n_jobs=1,\n",
      "            oob_score=False, random_state=None, verbose=0)\n",
      "best params:  {'max_features': 'sqrt', 'n_estimators': 300, 'max_depth': 8}\n",
      "\n",
      "AdaBoostClassifier: \n",
      "------------------------\n",
      "score: 0.701937078252\n",
      "best estomator:  AdaBoostClassifier(algorithm='SAMME.R', base_estimator=None,\n",
      "          learning_rate=1.0, n_estimators=90, random_state=None)\n",
      "best params:  {'n_estimators': 90}\n",
      "\n"
     ]
    }
   ],
   "source": [
    "modelOptimizer= ModelOptimizer(X, Y)\n",
    "modelOptimizer.add_model(\"BernoulliNB\",BernoulliNB(),param_grid={'alpha':np.linspace(0.01, .2, 5)} )\n",
    "modelOptimizer.add_model(\"Logistic\",LogisticRegression(),param_grid={'C':np.linspace(0.0001, 0.2, 10)})\n",
    "modelOptimizer.add_model(\"RandomForest\",RandomForestClassifier(),param_grid={'max_depth':range(5,9,1),'n_estimators':[90,200,300], 'max_features' : ['sqrt', 'log2'] } )\n",
    "modelOptimizer.add_model(\"AdaBoostClassifier\",AdaBoostClassifier(),param_grid={'n_estimators':[90,200,300] })\n",
    "modelOptimizer.test_models()"
   ]
  },
  {
   "cell_type": "markdown",
   "metadata": {},
   "source": [
    "### The best models are: RandomForest, LogisticRegression and AdaBoost"
   ]
  },
  {
   "cell_type": "markdown",
   "metadata": {},
   "source": [
    "# 5. Additional Optimization attempts"
   ]
  },
  {
   "cell_type": "markdown",
   "metadata": {},
   "source": [
    "### 5.1 Remove features with less than 10000 users"
   ]
  },
  {
   "cell_type": "code",
   "execution_count": 127,
   "metadata": {
    "collapsed": false
   },
   "outputs": [],
   "source": [
    "df_filtered = df.ix[:,df.sum(axis=0) > 10000]\n",
    "X_filtered = df_filtered.drop(['Visited Brand'], axis=1)\n",
    "Y_filtered = df['Visited Brand']"
   ]
  },
  {
   "cell_type": "code",
   "execution_count": 128,
   "metadata": {
    "collapsed": false
   },
   "outputs": [
    {
     "data": {
      "text/plain": [
       "count    37645.000000\n",
       "mean         0.292044\n",
       "std          0.454709\n",
       "min          0.000000\n",
       "25%          0.000000\n",
       "50%          0.000000\n",
       "75%          1.000000\n",
       "max          1.000000\n",
       "dtype: float64"
      ]
     },
     "execution_count": 128,
     "metadata": {},
     "output_type": "execute_result"
    }
   ],
   "source": [
    "Y_filtered.describe()"
   ]
  },
  {
   "cell_type": "code",
   "execution_count": 129,
   "metadata": {
    "collapsed": false
   },
   "outputs": [
    {
     "data": {
      "text/plain": [
       "(37645, 50)"
      ]
     },
     "execution_count": 129,
     "metadata": {},
     "output_type": "execute_result"
    }
   ],
   "source": [
    "X_filtered.shape"
   ]
  },
  {
   "cell_type": "code",
   "execution_count": 119,
   "metadata": {
    "collapsed": false
   },
   "outputs": [
    {
     "name": "stdout",
     "output_type": "stream",
     "text": [
      "testing model:  Logistic\n",
      "Logistic had an average roc_auc score of 0.703 \n",
      "\n"
     ]
    }
   ],
   "source": [
    "modelTester = ModelTester(X_filtered,Y_filtered,{'Logistic': LogisticRegression()})\n",
    "modelTester.test_classifiers(3) "
   ]
  },
  {
   "cell_type": "code",
   "execution_count": 114,
   "metadata": {
    "collapsed": false
   },
   "outputs": [
    {
     "data": {
      "text/plain": [
       "(1, 50)"
      ]
     },
     "execution_count": 114,
     "metadata": {},
     "output_type": "execute_result"
    }
   ],
   "source": [
    "arr = modelTester.clf_.coef_\n",
    "arr.shape"
   ]
  },
  {
   "cell_type": "code",
   "execution_count": 120,
   "metadata": {
    "collapsed": false
   },
   "outputs": [
    {
     "data": {
      "text/html": [
       "<div style=\"max-height:1000px;max-width:1500px;overflow:auto;\">\n",
       "<table border=\"1\" class=\"dataframe\">\n",
       "  <thead>\n",
       "    <tr style=\"text-align: right;\">\n",
       "      <th></th>\n",
       "      <th>coef</th>\n",
       "      <th>column</th>\n",
       "    </tr>\n",
       "  </thead>\n",
       "  <tbody>\n",
       "    <tr>\n",
       "      <th>16</th>\n",
       "      <td> 0.452968</td>\n",
       "      <td>                   Exelate 219 - Shopping - Mobile</td>\n",
       "    </tr>\n",
       "    <tr>\n",
       "      <th>46</th>\n",
       "      <td> 0.287411</td>\n",
       "      <td>              Exelate 9160 - Finance and Insurance</td>\n",
       "    </tr>\n",
       "    <tr>\n",
       "      <th>20</th>\n",
       "      <td> 0.219871</td>\n",
       "      <td>            Exelate 281 - Shopping - Food and Wine</td>\n",
       "    </tr>\n",
       "    <tr>\n",
       "      <th>29</th>\n",
       "      <td> 0.201137</td>\n",
       "      <td>               Exelate 46 - Entertainment - Movies</td>\n",
       "    </tr>\n",
       "    <tr>\n",
       "      <th>25</th>\n",
       "      <td> 0.190534</td>\n",
       "      <td> Exelate 3365 - General Interest - News and Cur...</td>\n",
       "    </tr>\n",
       "    <tr>\n",
       "      <th>39</th>\n",
       "      <td> 0.161935</td>\n",
       "      <td> Exelate 5405 - Purchase Behaviors - Shopping -...</td>\n",
       "    </tr>\n",
       "    <tr>\n",
       "      <th>3 </th>\n",
       "      <td> 0.156573</td>\n",
       "      <td> Exelate 1141 - Services - Finance and Insuranc...</td>\n",
       "    </tr>\n",
       "    <tr>\n",
       "      <th>32</th>\n",
       "      <td> 0.152598</td>\n",
       "      <td>                          Exelate 49 - Auto Buyers</td>\n",
       "    </tr>\n",
       "    <tr>\n",
       "      <th>2 </th>\n",
       "      <td> 0.136335</td>\n",
       "      <td>   Exelate 1126 - Services - Finance and Insurance</td>\n",
       "    </tr>\n",
       "    <tr>\n",
       "      <th>48</th>\n",
       "      <td> 0.134487</td>\n",
       "      <td>  Exelate 9167 - Finance and Insurance - Mortgages</td>\n",
       "    </tr>\n",
       "    <tr>\n",
       "      <th>17</th>\n",
       "      <td> 0.131682</td>\n",
       "      <td>                               Exelate 24 - Sports</td>\n",
       "    </tr>\n",
       "    <tr>\n",
       "      <th>31</th>\n",
       "      <td> 0.131520</td>\n",
       "      <td>                   Exelate 48 - Entertainment - TV</td>\n",
       "    </tr>\n",
       "    <tr>\n",
       "      <th>14</th>\n",
       "      <td> 0.125327</td>\n",
       "      <td>                               Exelate 2 - Finance</td>\n",
       "    </tr>\n",
       "    <tr>\n",
       "      <th>0 </th>\n",
       "      <td> 0.120718</td>\n",
       "      <td>       Exelate 1007 - Politics - Political Junkies</td>\n",
       "    </tr>\n",
       "    <tr>\n",
       "      <th>28</th>\n",
       "      <td> 0.113280</td>\n",
       "      <td>                             Exelate 40 - Shopping</td>\n",
       "    </tr>\n",
       "    <tr>\n",
       "      <th>24</th>\n",
       "      <td> 0.109446</td>\n",
       "      <td>                     Exelate 33 - Home Improvement</td>\n",
       "    </tr>\n",
       "    <tr>\n",
       "      <th>21</th>\n",
       "      <td> 0.071788</td>\n",
       "      <td>                   Exelate 29 - Shopping - Fashion</td>\n",
       "    </tr>\n",
       "    <tr>\n",
       "      <th>8 </th>\n",
       "      <td> 0.069599</td>\n",
       "      <td>                                Exelate 1438 - CPG</td>\n",
       "    </tr>\n",
       "    <tr>\n",
       "      <th>43</th>\n",
       "      <td> 0.068747</td>\n",
       "      <td>                Exelate 6650 - Propensity - Travel</td>\n",
       "    </tr>\n",
       "    <tr>\n",
       "      <th>35</th>\n",
       "      <td> 0.065662</td>\n",
       "      <td> Exelate 5152 - Finance - Personal Wealth Manag...</td>\n",
       "    </tr>\n",
       "    <tr>\n",
       "      <th>26</th>\n",
       "      <td> 0.065193</td>\n",
       "      <td>            Exelate 39 - General Interest - Health</td>\n",
       "    </tr>\n",
       "    <tr>\n",
       "      <th>10</th>\n",
       "      <td> 0.061717</td>\n",
       "      <td>         Exelate 1441 - CPG - Cleaning and Laundry</td>\n",
       "    </tr>\n",
       "    <tr>\n",
       "      <th>41</th>\n",
       "      <td> 0.056351</td>\n",
       "      <td>                        Exelate 6229 - Auto Owners</td>\n",
       "    </tr>\n",
       "    <tr>\n",
       "      <th>38</th>\n",
       "      <td> 0.055076</td>\n",
       "      <td>        Exelate 5400 - Purchase Behaviors - Travel</td>\n",
       "    </tr>\n",
       "    <tr>\n",
       "      <th>27</th>\n",
       "      <td> 0.045994</td>\n",
       "      <td>                   Exelate 391 - Hobbies - Reading</td>\n",
       "    </tr>\n",
       "    <tr>\n",
       "      <th>19</th>\n",
       "      <td> 0.035576</td>\n",
       "      <td>                     Exelate 28 - Diet and Fitness</td>\n",
       "    </tr>\n",
       "    <tr>\n",
       "      <th>15</th>\n",
       "      <td> 0.027467</td>\n",
       "      <td>        Exelate 214 - Shopping - Health and Beauty</td>\n",
       "    </tr>\n",
       "    <tr>\n",
       "      <th>30</th>\n",
       "      <td> 0.023048</td>\n",
       "      <td>                Exelate 47 - Entertainment - Music</td>\n",
       "    </tr>\n",
       "    <tr>\n",
       "      <th>11</th>\n",
       "      <td> 0.021032</td>\n",
       "      <td>   Exelate 1443 - CPG - Paper and Plastic Products</td>\n",
       "    </tr>\n",
       "    <tr>\n",
       "      <th>12</th>\n",
       "      <td> 0.017991</td>\n",
       "      <td> Exelate 1455 - Shopping - Retail - Home Improv...</td>\n",
       "    </tr>\n",
       "    <tr>\n",
       "      <th>40</th>\n",
       "      <td> 0.005858</td>\n",
       "      <td>             Exelate 6 - Business - Small Business</td>\n",
       "    </tr>\n",
       "    <tr>\n",
       "      <th>23</th>\n",
       "      <td> 0.004728</td>\n",
       "      <td>                              Exelate 32 - Hobbies</td>\n",
       "    </tr>\n",
       "    <tr>\n",
       "      <th>44</th>\n",
       "      <td> 0.003066</td>\n",
       "      <td>                Exelate 6665 - Finance - Investing</td>\n",
       "    </tr>\n",
       "    <tr>\n",
       "      <th>7 </th>\n",
       "      <td> 0.001041</td>\n",
       "      <td> Exelate 1311 - Services - Finance and Insuranc...</td>\n",
       "    </tr>\n",
       "    <tr>\n",
       "      <th>9 </th>\n",
       "      <td>-0.008273</td>\n",
       "      <td>                    Exelate 1440 - CPG - Beverages</td>\n",
       "    </tr>\n",
       "    <tr>\n",
       "      <th>1 </th>\n",
       "      <td>-0.020417</td>\n",
       "      <td>        Exelate 1031 - Entertainment - Video Games</td>\n",
       "    </tr>\n",
       "    <tr>\n",
       "      <th>5 </th>\n",
       "      <td>-0.024339</td>\n",
       "      <td> Exelate 1274 - General Interest - Travel Enthu...</td>\n",
       "    </tr>\n",
       "    <tr>\n",
       "      <th>4 </th>\n",
       "      <td>-0.025752</td>\n",
       "      <td>                 Exelate 1146 - Tech - Enthusiasts</td>\n",
       "    </tr>\n",
       "    <tr>\n",
       "      <th>22</th>\n",
       "      <td>-0.028535</td>\n",
       "      <td>                                  Exelate 3 - Pets</td>\n",
       "    </tr>\n",
       "    <tr>\n",
       "      <th>34</th>\n",
       "      <td>-0.031602</td>\n",
       "      <td>              Exelate 50 - Hobbies - Food and Wine</td>\n",
       "    </tr>\n",
       "    <tr>\n",
       "      <th>33</th>\n",
       "      <td>-0.055000</td>\n",
       "      <td>                                Exelate 5 - Travel</td>\n",
       "    </tr>\n",
       "    <tr>\n",
       "      <th>47</th>\n",
       "      <td>-0.060338</td>\n",
       "      <td>    Exelate 9162 - Finance and Insurance - Banking</td>\n",
       "    </tr>\n",
       "    <tr>\n",
       "      <th>6 </th>\n",
       "      <td>-0.063103</td>\n",
       "      <td> Exelate 1309 - Financial Products - Regular Cr...</td>\n",
       "    </tr>\n",
       "    <tr>\n",
       "      <th>18</th>\n",
       "      <td>-0.075048</td>\n",
       "      <td>                        Exelate 25 - Entertainment</td>\n",
       "    </tr>\n",
       "    <tr>\n",
       "      <th>42</th>\n",
       "      <td>-0.083206</td>\n",
       "      <td>                  Exelate 6642 - Propensity - Auto</td>\n",
       "    </tr>\n",
       "    <tr>\n",
       "      <th>49</th>\n",
       "      <td>-0.102520</td>\n",
       "      <td>                                         Completer</td>\n",
       "    </tr>\n",
       "    <tr>\n",
       "      <th>37</th>\n",
       "      <td>-0.137097</td>\n",
       "      <td>      Exelate 5399 - Purchase Behaviors - Shopping</td>\n",
       "    </tr>\n",
       "    <tr>\n",
       "      <th>45</th>\n",
       "      <td>-0.138734</td>\n",
       "      <td>                             Exelate 8 - Parenting</td>\n",
       "    </tr>\n",
       "    <tr>\n",
       "      <th>36</th>\n",
       "      <td>-0.152685</td>\n",
       "      <td>                   Exelate 539 - Charitable Donors</td>\n",
       "    </tr>\n",
       "    <tr>\n",
       "      <th>13</th>\n",
       "      <td>-0.164174</td>\n",
       "      <td> Exelate 16220 - Diet and Fitness - Health and ...</td>\n",
       "    </tr>\n",
       "  </tbody>\n",
       "</table>\n",
       "</div>"
      ],
      "text/plain": [
       "        coef                                             column\n",
       "16  0.452968                    Exelate 219 - Shopping - Mobile\n",
       "46  0.287411               Exelate 9160 - Finance and Insurance\n",
       "20  0.219871             Exelate 281 - Shopping - Food and Wine\n",
       "29  0.201137                Exelate 46 - Entertainment - Movies\n",
       "25  0.190534  Exelate 3365 - General Interest - News and Cur...\n",
       "39  0.161935  Exelate 5405 - Purchase Behaviors - Shopping -...\n",
       "3   0.156573  Exelate 1141 - Services - Finance and Insuranc...\n",
       "32  0.152598                           Exelate 49 - Auto Buyers\n",
       "2   0.136335    Exelate 1126 - Services - Finance and Insurance\n",
       "48  0.134487   Exelate 9167 - Finance and Insurance - Mortgages\n",
       "17  0.131682                                Exelate 24 - Sports\n",
       "31  0.131520                    Exelate 48 - Entertainment - TV\n",
       "14  0.125327                                Exelate 2 - Finance\n",
       "0   0.120718        Exelate 1007 - Politics - Political Junkies\n",
       "28  0.113280                              Exelate 40 - Shopping\n",
       "24  0.109446                      Exelate 33 - Home Improvement\n",
       "21  0.071788                    Exelate 29 - Shopping - Fashion\n",
       "8   0.069599                                 Exelate 1438 - CPG\n",
       "43  0.068747                 Exelate 6650 - Propensity - Travel\n",
       "35  0.065662  Exelate 5152 - Finance - Personal Wealth Manag...\n",
       "26  0.065193             Exelate 39 - General Interest - Health\n",
       "10  0.061717          Exelate 1441 - CPG - Cleaning and Laundry\n",
       "41  0.056351                         Exelate 6229 - Auto Owners\n",
       "38  0.055076         Exelate 5400 - Purchase Behaviors - Travel\n",
       "27  0.045994                    Exelate 391 - Hobbies - Reading\n",
       "19  0.035576                      Exelate 28 - Diet and Fitness\n",
       "15  0.027467         Exelate 214 - Shopping - Health and Beauty\n",
       "30  0.023048                 Exelate 47 - Entertainment - Music\n",
       "11  0.021032    Exelate 1443 - CPG - Paper and Plastic Products\n",
       "12  0.017991  Exelate 1455 - Shopping - Retail - Home Improv...\n",
       "40  0.005858              Exelate 6 - Business - Small Business\n",
       "23  0.004728                               Exelate 32 - Hobbies\n",
       "44  0.003066                 Exelate 6665 - Finance - Investing\n",
       "7   0.001041  Exelate 1311 - Services - Finance and Insuranc...\n",
       "9  -0.008273                     Exelate 1440 - CPG - Beverages\n",
       "1  -0.020417         Exelate 1031 - Entertainment - Video Games\n",
       "5  -0.024339  Exelate 1274 - General Interest - Travel Enthu...\n",
       "4  -0.025752                  Exelate 1146 - Tech - Enthusiasts\n",
       "22 -0.028535                                   Exelate 3 - Pets\n",
       "34 -0.031602               Exelate 50 - Hobbies - Food and Wine\n",
       "33 -0.055000                                 Exelate 5 - Travel\n",
       "47 -0.060338     Exelate 9162 - Finance and Insurance - Banking\n",
       "6  -0.063103  Exelate 1309 - Financial Products - Regular Cr...\n",
       "18 -0.075048                         Exelate 25 - Entertainment\n",
       "42 -0.083206                   Exelate 6642 - Propensity - Auto\n",
       "49 -0.102520                                          Completer\n",
       "37 -0.137097       Exelate 5399 - Purchase Behaviors - Shopping\n",
       "45 -0.138734                              Exelate 8 - Parenting\n",
       "36 -0.152685                    Exelate 539 - Charitable Donors\n",
       "13 -0.164174  Exelate 16220 - Diet and Fitness - Health and ..."
      ]
     },
     "execution_count": 120,
     "metadata": {},
     "output_type": "execute_result"
    }
   ],
   "source": [
    "c_df = pd.DataFrame(arr.reshape(50,1), columns=['coef'])\n",
    "c_df['column'] = X_filtered.columns\n",
    "c_df = c_df.sort(columns='coef',ascending=False)\n",
    "c_df\n",
    "#tmp = df[['Exelate 222 - Auto - Buyers - Make:BMW', 'Visited Brand']]\n",
    "#tmp[tmp['Exelate 222 - Auto - Buyers - Make:BMW'] == 1]"
   ]
  },
  {
   "cell_type": "code",
   "execution_count": 123,
   "metadata": {
    "collapsed": false
   },
   "outputs": [
    {
     "name": "stdout",
     "output_type": "stream",
     "text": [
      "BernoulliNB: \n",
      "------------------------\n",
      "score: 0.685878099692\n",
      "best estomator:  BernoulliNB(alpha=0.15250000000000002, binarize=0.0, class_prior=None,\n",
      "      fit_prior=True)\n",
      "best params:  {'alpha': 0.15250000000000002}\n",
      "\n",
      "Logistic: \n",
      "------------------------\n",
      "score: 0.707319942713\n",
      "best estomator:  LogisticRegression(C=0.088944444444444451, class_weight=None, dual=False,\n",
      "          fit_intercept=True, intercept_scaling=1, penalty='l2',\n",
      "          random_state=None, tol=0.0001)\n",
      "best params:  {'C': 0.088944444444444451}\n",
      "\n",
      "RandomForest: \n",
      "------------------------\n",
      "score: 0.710727958712\n",
      "best estomator:  RandomForestClassifier(bootstrap=True, compute_importances=None,\n",
      "            criterion='gini', max_depth=8, max_features='sqrt',\n",
      "            max_leaf_nodes=None, min_density=None, min_samples_leaf=1,\n",
      "            min_samples_split=2, n_estimators=200, n_jobs=1,\n",
      "            oob_score=False, random_state=None, verbose=0)\n",
      "best params:  {'max_features': 'sqrt', 'n_estimators': 200, 'max_depth': 8}\n",
      "\n",
      "AdaBoostClassifier: \n",
      "------------------------\n",
      "score: 0.707579389556\n",
      "best estomator:  AdaBoostClassifier(algorithm='SAMME.R', base_estimator=None,\n",
      "          learning_rate=1.0, n_estimators=200, random_state=None)\n",
      "best params:  {'n_estimators': 200}\n",
      "\n"
     ]
    }
   ],
   "source": [
    "modelOptimizer= ModelOptimizer(X_filtered, Y_filtered)\n",
    "modelOptimizer.add_model(\"BernoulliNB\",BernoulliNB(),param_grid={'alpha':np.linspace(0.01, .2, 5)} )\n",
    "modelOptimizer.add_model(\"Logistic\",LogisticRegression(),param_grid={'C':np.linspace(0.0001, 0.2, 10)})\n",
    "modelOptimizer.add_model(\"RandomForest\",RandomForestClassifier(),param_grid={'max_depth':range(5,9,1),'n_estimators':[90,200,300], 'max_features' : ['sqrt', 'log2'] } )\n",
    "modelOptimizer.add_model(\"AdaBoostClassifier\",AdaBoostClassifier(),param_grid={'n_estimators':[90,200,300] })\n",
    "modelOptimizer.test_models()"
   ]
  },
  {
   "cell_type": "code",
   "execution_count": 221,
   "metadata": {
    "collapsed": false
   },
   "outputs": [
    {
     "name": "stdout",
     "output_type": "stream",
     "text": [
      "(37645, 811)\n",
      "BernoulliNB: \n",
      "------------------------\n",
      "score: 0.62370416378\n",
      "best estomator:  BernoulliNB(alpha=0.03111111111111111, binarize=0.0, class_prior=None,\n",
      "      fit_prior=True)\n",
      "best params:  {'alpha': 0.03111111111111111}\n",
      "\n",
      "Logistic: \n",
      "------------------------\n",
      "score: 0.702768092924\n",
      "best estomator:  LogisticRegression(C=0.10000000000000001, class_weight=None, dual=False,\n",
      "          fit_intercept=True, intercept_scaling=1, penalty='l2',\n",
      "          random_state=None, tol=0.0001)\n",
      "best params:  {'C': 0.10000000000000001}\n",
      "\n",
      "RandomForest: \n",
      "------------------------\n",
      "score: 0.697006533111\n",
      "best estomator:  RandomForestClassifier(bootstrap=True, compute_importances=None,\n",
      "            criterion='gini', max_depth=6, max_features='auto',\n",
      "            max_leaf_nodes=None, min_density=None, min_samples_leaf=1,\n",
      "            min_samples_split=2, n_estimators=10, n_jobs=1,\n",
      "            oob_score=False, random_state=None, verbose=0)\n",
      "best params:  {'max_depth': 6}\n",
      "\n"
     ]
    }
   ],
   "source": [
    "testDataFrame(df_filtered)"
   ]
  },
  {
   "cell_type": "markdown",
   "metadata": {},
   "source": [
    "# 6. Summary"
   ]
  },
  {
   "cell_type": "markdown",
   "metadata": {},
   "source": [
    "* We learned that the best models for this data set are random forest, AdaBoost and logistic regression. \n",
    "* Tweaking the different models showed some improvement, although not very significant. Feature selection is more important! \n",
    "* In this example, we use a pretty small data set. Using a larger Data set will \n",
    "  very likely improve our results. \n",
    "\n"
   ]
  },
  {
   "cell_type": "markdown",
   "metadata": {},
   "source": [
    "## Future Work"
   ]
  },
  {
   "cell_type": "markdown",
   "metadata": {},
   "source": [
    "* Working with larger data sets - use sparse matrix libraries and chunk data loading when the data is too big to \n",
    "  fit in memory\n",
    "* Working with <b> VERY </b> large data sets - use Spark to run model on a distributed system. \n",
    "* Practical uses - test performance, we have very strict performance requirments in the bidder, model must be able to run on a  \n",
    "  single line in less than 20ms. \n",
    "* Try to give weights to features rather than users."
   ]
  },
  {
   "cell_type": "code",
   "execution_count": null,
   "metadata": {
    "collapsed": false
   },
   "outputs": [],
   "source": []
  },
  {
   "cell_type": "markdown",
   "metadata": {},
   "source": [
    "# 7. Implementaion"
   ]
  },
  {
   "cell_type": "code",
   "execution_count": 122,
   "metadata": {
    "collapsed": false
   },
   "outputs": [],
   "source": [
    "import numpy as np\n",
    "import pandas as pd\n",
    "import sklearn\n",
    "import sklearn.linear_model as lm\n",
    "import sklearn.cross_validation as cv\n",
    "import sklearn.grid_search as gs\n",
    "import matplotlib.pyplot as plt\n",
    "import pandas as pd\n",
    "from sklearn import metrics\n",
    "from sklearn.cross_validation import train_test_split, Bootstrap\n",
    "from sklearn.datasets import make_blobs\n",
    "from sklearn.ensemble import RandomForestClassifier\n",
    "from sklearn.ensemble import ExtraTreesClassifier\n",
    "from sklearn.dummy import DummyClassifier\n",
    "from sklearn.linear_model import LogisticRegression\n",
    "from sklearn.linear_model import RandomizedLogisticRegression\n",
    "from sklearn.naive_bayes import GaussianNB, MultinomialNB, BernoulliNB\n",
    "from sklearn.neighbors import KNeighborsClassifier\n",
    "from sklearn.ensemble import RandomForestClassifier\n",
    "from sklearn.ensemble import AdaBoostClassifier\n",
    "from sklearn.tree import DecisionTreeClassifier\n",
    "from sklearn.metrics import roc_auc_score\n",
    "from IPython.display import Image\n",
    "from sklearn.decomposition import PCA\n",
    "import sklearn.grid_search as gs\n",
    "from sklearn.metrics import recall_score\n",
    "conf_matrix_image = Image(url='https://computersciencesource.files.wordpress.com/2010/01/conmat.png')\n",
    "%matplotlib inline"
   ]
  },
  {
   "cell_type": "code",
   "execution_count": 13,
   "metadata": {
    "collapsed": false
   },
   "outputs": [],
   "source": [
    "def testDataFrame(df):   \n",
    "    X = df.drop(['Visited Brand'], axis=1)\n",
    "    Y = df['Visited Brand']\n",
    "    modelOptimizer= ModelOptimizer(X, Y)\n",
    "    modelOptimizer.add_model(\"Logistic\",LogisticRegression(),param_grid={'C':np.linspace(0.1, 0.4, 14)} )\n",
    "    modelOptimizer.add_model(\"RandomForest\",RandomForestClassifier(),param_grid={'max_depth':range(4,8,1)} )\n",
    "    modelOptimizer.test_models()"
   ]
  },
  {
   "cell_type": "code",
   "execution_count": 62,
   "metadata": {
    "collapsed": false
   },
   "outputs": [],
   "source": [
    "class ModelTester:\n",
    "    def __init__(self, X, Y,classifiers):\n",
    "        self.X_matrix = X\n",
    "        self.Y_vector = Y        \n",
    "        self.classifiers = classifiers\n",
    "        self.printConfusionMatrix = False\n",
    "        self.verbose = False\n",
    "        \n",
    "        \n",
    "        \n",
    "    def runClassifier(self, X,Y, clf, times): \n",
    "        sum_scores = 0.0\n",
    "        sum_scores_roc_auc = 0.0\n",
    "        conf_matrix = None\n",
    "        conf_matrix = np.array([[0,0], [0,0]])\n",
    "        printCurve = False\n",
    "\n",
    "        for i in range(times):\n",
    "             (X_train, X_test,\n",
    "             y_train, y_test) = cv.train_test_split(X, Y,\n",
    "                                                test_size=.2)\n",
    "             clf.fit(X_train,y_train)\n",
    "             self.clf_ = clf   \n",
    "             prob_array = np.array(clf.predict_proba(X_test))\n",
    "             y_hat = prob_array[:,1]\n",
    "             y_pred = clf.predict(X_test)\n",
    "             roc_score = roc_auc_score(y_test, y_hat)  \n",
    "             if self.verbose:   \n",
    "                 print \"current roc score: \", roc_score  \n",
    "             if printCurve:                        \n",
    "                 display_roc_curve(y_test,prob_array)\n",
    "                 printCurve = False       \n",
    "             sum_scores_roc_auc += roc_score      \n",
    "             sum_scores += recall_score(y_test, y_pred)\n",
    "             if (self.printConfusionMatrix):                 \n",
    "                conf_matrix += metrics.confusion_matrix(y_test, y_pred)       \n",
    "\n",
    "             #print \"%s had an accuracy score of %0.2f\"% (name, score)            \n",
    "        return sum_scores / times, sum_scores_roc_auc / times, conf_matrix / times\n",
    "\n",
    "    def test_classifiers(self, times):\n",
    "        for name, clf in self.classifiers.items():\n",
    "            print \"testing model: \", name\n",
    "            score, score_roc_auc, conf_matrix = self.runClassifier(self.X_matrix,self.Y_vector,clf, times)   \n",
    "            #print \"%s had an average recall score of %0.3f, and roc_auc score of %0.2f\"% (name, score, score_roc_auc)\n",
    "            print \"%s had an average roc_auc score of %0.3f \\n\"% (name, score_roc_auc)\n",
    "            if (self.printConfusionMatrix):\n",
    "                print \"confusion matrix: \"\n",
    "                print conf_matrix\n",
    "    \n"
   ]
  },
  {
   "cell_type": "code",
   "execution_count": 15,
   "metadata": {
    "collapsed": false
   },
   "outputs": [],
   "source": [
    "class ModelOptimizer:\n",
    "    def __init__(self, x, y):\n",
    "        self.models = []\n",
    "    \n",
    "        (x_train, x_test,\n",
    "         y_train, y_test) = cv.train_test_split(x, y,\n",
    "                                        test_size=.2)\n",
    "        self.x_train = x_train\n",
    "        self.x_test = x_test\n",
    "        self.y_train = y_train\n",
    "        self.y_test = y_test\n",
    "        \n",
    "        \n",
    "    def add_model(self, name, model, param_grid={}):\n",
    "        optimized_model = gs.GridSearchCV(model, param_grid, scoring='roc_auc', n_jobs=4, cv=3) \n",
    "        optimized_model.fit(self.x_train, self.y_train)\n",
    "        data = {\n",
    "            'name':name,           \n",
    "            'model': optimized_model\n",
    "        }\n",
    "        self.models.append(data)\n",
    "        \n",
    "    def test_models(self):\n",
    "        for model in self.models:            \n",
    "            prob_array = np.array( model['model'].predict_proba(self.x_test))\n",
    "            y_hat = prob_array[:,1]\n",
    "            score = roc_auc_score(self.y_test, y_hat)     \n",
    "            #score = model['model'].score(self.x_test, self.y_test)\n",
    "            print \"%s: \" % model['name'] \n",
    "            print \"------------------------\"\n",
    "            print \"score: %s\" % (score)\n",
    "            print \"best estomator: \" ,model['model'].best_estimator_\n",
    "            print \"best params: \" , model['model'].best_params_\n",
    "            print \"\""
   ]
  },
  {
   "cell_type": "code",
   "execution_count": 16,
   "metadata": {
    "collapsed": false
   },
   "outputs": [],
   "source": [
    "from sklearn.metrics import roc_curve, auc\n",
    "def display_roc_curve(ytest, y_prob):\n",
    "    false_pos_rate, true_pos_rate, thresholds = roc_curve(ytest, y_prob[:, 1])\n",
    "    roc_auc = auc(false_pos_rate, true_pos_rate)\n",
    "    # Plot ROC curve\n",
    "    # setup figure\n",
    "    plt.figure(figsize=(5, 4))\n",
    "    plt.clf()\n",
    "    plt.plot(false_pos_rate, true_pos_rate, label='ROC curve (area = %0.2f)' % roc_auc)\n",
    "    plt.plot([0, 1], [0, 1], 'k--')\n",
    "    plt.xlim([0.0, 1.0])\n",
    "    plt.ylim([0.0, 1.0])\n",
    "    plt.xlabel('False Positive Rate')\n",
    "    plt.ylabel('True Positive Rate')\n",
    "    plt.title('Receiver operating characteristic')\n",
    "    plt.legend(loc=\"lower right\")\n",
    "    plt.show()\n",
    "\n",
    "def printPredictionPlot(Y_test_predicted_prob, Y_test):\n",
    "    prob_df = pd.DataFrame(Y_test_predicted_prob[:10], columns=['0 predicted prob', '1 predicted prob'])\n",
    "    prob_df ['actual value'] = Y_test[:10]\n",
    "    pd.options.display.float_format = '{:10,.3f}'.format\n",
    "    \n",
    "    tmp = plt.hist(Y_test_predicted_prob[:,1],20)\n",
    "    plt.xlabel('Probability for 1')\n",
    "    plt.ylabel('Number of users with probability')\n",
    "    print tmp\n",
    "    \n",
    "def printConfusionMatrix(model, threshold, X_train, X_test, Y_train, Y_test):\n",
    "    \n",
    "    model.fit(X_train,Y_train) \n",
    "    y_pred = predictWithThreshhold(model, threshold, X_test)\n",
    "    \n",
    "    print metrics.confusion_matrix(Y_test, y_pred)   \n",
    "    \n",
    "def predictWithThreshhold(model, threshhold, x_test):\n",
    "    \n",
    "    prob = model.predict_proba(x_test)\n",
    "    return map(lambda x: 1 if x[1] > threshhold else 0, prob)\n",
    "\n"
   ]
  },
  {
   "cell_type": "code",
   "execution_count": null,
   "metadata": {
    "collapsed": false
   },
   "outputs": [],
   "source": [
    "printConfusionMatrix(LogisticRegression(), 0.3, X_train, X_test, Y_train, Y_test)"
   ]
  }
 ],
 "metadata": {
  "kernelspec": {
   "display_name": "Python 3",
   "language": "python",
   "name": "python3"
  },
  "language_info": {
   "codemirror_mode": {
    "name": "ipython",
    "version": 3
   },
   "file_extension": ".py",
   "mimetype": "text/x-python",
   "name": "python",
   "nbconvert_exporter": "python",
   "pygments_lexer": "ipython3",
   "version": "3.4.3"
  }
 },
 "nbformat": 4,
 "nbformat_minor": 0
}
